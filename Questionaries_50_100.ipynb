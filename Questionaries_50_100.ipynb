{
  "nbformat": 4,
  "nbformat_minor": 0,
  "metadata": {
    "colab": {
      "provenance": []
    },
    "kernelspec": {
      "name": "python3",
      "display_name": "Python 3"
    },
    "language_info": {
      "name": "python"
    }
  },
  "cells": [
    {
      "cell_type": "code",
      "source": [
        "s =\"this is My First Python programming class and i am learNING python string and its function\""
      ],
      "metadata": {
        "id": "lSrKnkrqi3pa"
      },
      "execution_count": null,
      "outputs": []
    },
    {
      "cell_type": "markdown",
      "source": [
        "1 . Try to extract data from index one to index 300 with a jump of 3"
      ],
      "metadata": {
        "id": "QDneE65yh-QO"
      }
    },
    {
      "cell_type": "code",
      "source": [
        "for i in range(0,len(s),3):\n",
        "  print(i,\":\",s[i])"
      ],
      "metadata": {
        "colab": {
          "base_uri": "https://localhost:8080/"
        },
        "id": "axX-qLTBh7KF",
        "outputId": "fc231a64-c33d-4cb1-f0d3-9b9a673dedfe"
      },
      "execution_count": null,
      "outputs": [
        {
          "output_type": "stream",
          "name": "stdout",
          "text": [
            "0 : t\n",
            "3 : s\n",
            "6 : s\n",
            "9 : y\n",
            "12 : i\n",
            "15 : t\n",
            "18 : y\n",
            "21 : o\n",
            "24 : p\n",
            "27 : g\n",
            "30 : m\n",
            "33 : n\n",
            "36 : c\n",
            "39 : s\n",
            "42 : a\n",
            "45 :  \n",
            "48 : a\n",
            "51 : l\n",
            "54 : r\n",
            "57 : N\n",
            "60 : p\n",
            "63 : h\n",
            "66 :  \n",
            "69 : r\n",
            "72 : g\n",
            "75 : n\n",
            "78 : i\n",
            "81 :  \n",
            "84 : n\n",
            "87 : i\n"
          ]
        }
      ]
    },
    {
      "cell_type": "markdown",
      "source": [
        "2. Try to reverse a string without using reverse function"
      ],
      "metadata": {
        "id": "L5-ZeiXjirbt"
      }
    },
    {
      "cell_type": "code",
      "source": [
        "print(s[::-1])"
      ],
      "metadata": {
        "colab": {
          "base_uri": "https://localhost:8080/"
        },
        "id": "H6AcAGs8iqhC",
        "outputId": "dbd1b528-6b70-421e-90a6-6d28a218caaf"
      },
      "execution_count": null,
      "outputs": [
        {
          "output_type": "stream",
          "name": "stdout",
          "text": [
            "noitcnuf sti dna gnirts nohtyp GNINrael ma i dna ssalc gnimmargorp nohtyP tsriF yM si siht\n"
          ]
        }
      ]
    },
    {
      "cell_type": "markdown",
      "source": [
        "3. Try to split a string after conversion of entire string in uppercase"
      ],
      "metadata": {
        "id": "owKxij5RiyY0"
      }
    },
    {
      "cell_type": "code",
      "source": [
        "s1 = s.upper()\n",
        "s1.split()"
      ],
      "metadata": {
        "colab": {
          "base_uri": "https://localhost:8080/"
        },
        "id": "LF5E3Qi6izRu",
        "outputId": "afb06571-13fa-413f-c853-302d982aea4d"
      },
      "execution_count": null,
      "outputs": [
        {
          "output_type": "execute_result",
          "data": {
            "text/plain": [
              "['THIS',\n",
              " 'IS',\n",
              " 'MY',\n",
              " 'FIRST',\n",
              " 'PYTHON',\n",
              " 'PROGRAMMING',\n",
              " 'CLASS',\n",
              " 'AND',\n",
              " 'I',\n",
              " 'AM',\n",
              " 'LEARNING',\n",
              " 'PYTHON',\n",
              " 'STRING',\n",
              " 'AND',\n",
              " 'ITS',\n",
              " 'FUNCTION']"
            ]
          },
          "metadata": {},
          "execution_count": 9
        }
      ]
    },
    {
      "cell_type": "markdown",
      "source": [
        "4. try to convert the whole string into lower case"
      ],
      "metadata": {
        "id": "ALp7UE96rcp8"
      }
    },
    {
      "cell_type": "code",
      "source": [
        "print(s.lower())"
      ],
      "metadata": {
        "colab": {
          "base_uri": "https://localhost:8080/"
        },
        "id": "tP1qp554rgY1",
        "outputId": "e446733f-6c6e-448f-cf16-f0b4f996800b"
      },
      "execution_count": null,
      "outputs": [
        {
          "output_type": "stream",
          "name": "stdout",
          "text": [
            "this is my first python programming class and i am learning python string and its function\n"
          ]
        }
      ]
    },
    {
      "cell_type": "markdown",
      "source": [
        "5 . Try to capitalize the whole string"
      ],
      "metadata": {
        "id": "peoxuraDrnMr"
      }
    },
    {
      "cell_type": "code",
      "source": [
        "print(s.title())"
      ],
      "metadata": {
        "colab": {
          "base_uri": "https://localhost:8080/"
        },
        "id": "ZUknzRt5rn4N",
        "outputId": "a4c254c6-abb2-4edb-d6f1-0bdcb4599908"
      },
      "execution_count": null,
      "outputs": [
        {
          "output_type": "stream",
          "name": "stdout",
          "text": [
            "This Is My First Python Programming Class And I Am Learning Python String And Its Function\n"
          ]
        }
      ]
    },
    {
      "cell_type": "markdown",
      "source": [
        "6 . Write a diference between isalnum() and isalpha()\n",
        "\n",
        "\n",
        "*   isalnum() is a string function which is used to check if the given string is alpha numeric or not.\n",
        "*   isaplha() is a string function which is used to check if the characters in given string is all aphabets are not.\n",
        "\n"
      ],
      "metadata": {
        "id": "BAlCzUjWsNbB"
      }
    },
    {
      "cell_type": "markdown",
      "source": [
        "7. Try to give an example of expand tab"
      ],
      "metadata": {
        "id": "2AbWTkhbs7_N"
      }
    },
    {
      "cell_type": "code",
      "source": [
        "l = 'a\\td\\ti\\tt\\ty\\ty\\ta'\n",
        "l.expandtabs()"
      ],
      "metadata": {
        "colab": {
          "base_uri": "https://localhost:8080/",
          "height": 35
        },
        "id": "Fl--nZPltAxz",
        "outputId": "dd0037a2-4628-4daa-845a-c5b1eaf2f906"
      },
      "execution_count": null,
      "outputs": [
        {
          "output_type": "execute_result",
          "data": {
            "text/plain": [
              "'a       d       i       t       y       y       a'"
            ],
            "application/vnd.google.colaboratory.intrinsic+json": {
              "type": "string"
            }
          },
          "metadata": {},
          "execution_count": 35
        }
      ]
    },
    {
      "cell_type": "markdown",
      "source": [
        "8 . Give an example of strip , lstrip and rstrip "
      ],
      "metadata": {
        "id": "MsRjA54DvE26"
      }
    },
    {
      "cell_type": "code",
      "source": [
        "p = \"  aditya  \"\n",
        "print(p.lstrip())\n",
        "print(p.rstrip())\n",
        "print(p.strip())"
      ],
      "metadata": {
        "colab": {
          "base_uri": "https://localhost:8080/"
        },
        "id": "X_s999CCvFsF",
        "outputId": "8c76380c-023c-4ffd-8598-8dadb63fe47f"
      },
      "execution_count": null,
      "outputs": [
        {
          "output_type": "stream",
          "name": "stdout",
          "text": [
            "aditya  \n",
            "  aditya\n",
            "aditya\n"
          ]
        }
      ]
    },
    {
      "cell_type": "markdown",
      "source": [
        "9.  Replace a string charecter by another charector by taking your own example"
      ],
      "metadata": {
        "id": "-NRSOw-Gvo-8"
      }
    },
    {
      "cell_type": "code",
      "source": [
        "t = 'hello bob'\n",
        "print(t)\n",
        "print(t.replace('bob','mom'))"
      ],
      "metadata": {
        "colab": {
          "base_uri": "https://localhost:8080/"
        },
        "id": "AXUAbBx8vpwH",
        "outputId": "7726507d-6095-47da-bd69-6fbb31336ce7"
      },
      "execution_count": null,
      "outputs": [
        {
          "output_type": "stream",
          "name": "stdout",
          "text": [
            "hello bob\n",
            "hello mom\n"
          ]
        }
      ]
    },
    {
      "cell_type": "markdown",
      "source": [
        "10 . Try  to give a defination of string center function with and exmple\n",
        "\n",
        "*   This function helps us to center align the string with specified character.\n",
        "\n",
        "\n"
      ],
      "metadata": {
        "id": "BzY3yNwmwWhF"
      }
    },
    {
      "cell_type": "code",
      "source": [
        "txt = 'aditya'\n",
        "print(txt.center(14,'*'))"
      ],
      "metadata": {
        "colab": {
          "base_uri": "https://localhost:8080/"
        },
        "id": "PC_Me3q2wcYu",
        "outputId": "e9a6214f-c452-4dad-8dbc-d924bab54068"
      },
      "execution_count": null,
      "outputs": [
        {
          "output_type": "stream",
          "name": "stdout",
          "text": [
            "****aditya****\n"
          ]
        }
      ]
    },
    {
      "cell_type": "markdown",
      "source": [
        "11 . Write your own definition of compiler and interpretor without copy paste form internet in your own language\n",
        "\n",
        "\n",
        "*   Compiler is helps us to convert high level language program to low level langauge\n",
        "*   Interpreter helps us to directly run the code without using compiler\n",
        "\n"
      ],
      "metadata": {
        "id": "7jGuRPGAx1Y5"
      }
    },
    {
      "cell_type": "markdown",
      "source": [],
      "metadata": {
        "id": "phbbMrsayYsM"
      }
    }
  ]
}