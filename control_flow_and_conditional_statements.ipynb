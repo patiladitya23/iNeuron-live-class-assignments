{
  "nbformat": 4,
  "nbformat_minor": 0,
  "metadata": {
    "colab": {
      "provenance": []
    },
    "kernelspec": {
      "name": "python3",
      "display_name": "Python 3"
    },
    "language_info": {
      "name": "python"
    }
  },
  "cells": [
    {
      "cell_type": "markdown",
      "source": [
        "#Q1. Find the largest number from the given list, use for loop."
      ],
      "metadata": {
        "id": "SCb3a3aqnfDD"
      }
    },
    {
      "cell_type": "code",
      "execution_count": 39,
      "metadata": {
        "colab": {
          "base_uri": "https://localhost:8080/"
        },
        "id": "_sayNnU9nXLO",
        "outputId": "8bfc3684-3dfd-4834-cd98-067e83955813"
      },
      "outputs": [
        {
          "output_type": "stream",
          "name": "stdout",
          "text": [
            "maximum number from given list is: 525\n"
          ]
        }
      ],
      "source": [
        "numbers = [12, 75, 150, 180, 145, 525, 50]\n",
        "grt_num = numbers[0]\n",
        "\n",
        "for nums in numbers:\n",
        "  \n",
        "  if nums > grt_num :\n",
        "    \n",
        "    grt_num = nums\n",
        "\n",
        "print(f\"maximum number from given list is: {grt_num}\")"
      ]
    },
    {
      "cell_type": "markdown",
      "source": [
        "#Q2. Print all the even number between (1, 12)."
      ],
      "metadata": {
        "id": "YnGB3_SnsmeG"
      }
    },
    {
      "cell_type": "code",
      "source": [
        "for i in range (1,12):\n",
        "  if i%2 ==0:\n",
        "    print(i)"
      ],
      "metadata": {
        "colab": {
          "base_uri": "https://localhost:8080/"
        },
        "id": "IzFU9Piyso8S",
        "outputId": "62e63d45-484c-4cf7-aa25-04df0bebc00f"
      },
      "execution_count": 26,
      "outputs": [
        {
          "output_type": "stream",
          "name": "stdout",
          "text": [
            "2\n",
            "4\n",
            "6\n",
            "8\n",
            "10\n"
          ]
        }
      ]
    },
    {
      "cell_type": "markdown",
      "source": [
        "#Q3. Calculate the sum of all numbers from 1 to a given number"
      ],
      "metadata": {
        "id": "hUcl9SaWtgn8"
      }
    },
    {
      "cell_type": "code",
      "source": [
        "sum = 0\n",
        "for i in range (1,10):\n",
        "  sum = sum + (i+1)\n",
        "print(sum+1)"
      ],
      "metadata": {
        "colab": {
          "base_uri": "https://localhost:8080/"
        },
        "id": "BItGkXOKtPsP",
        "outputId": "c6b02f63-b182-4080-f7d2-b86efb4ccf35"
      },
      "execution_count": 38,
      "outputs": [
        {
          "output_type": "stream",
          "name": "stdout",
          "text": [
            "55\n"
          ]
        }
      ]
    },
    {
      "cell_type": "markdown",
      "source": [
        "#Q4. Write a program to display only those numbers from a list that satisfy the following conditions\n",
        "\n",
        "1.   The number must be divisible by five\n",
        "2.   If the number is greater than 150, then skip it and move to the next number\n",
        "3.   If the number is greater than 500, then stop the loop\n",
        "\n"
      ],
      "metadata": {
        "id": "gfEawjGTwxSi"
      }
    },
    {
      "cell_type": "code",
      "source": [
        "numbers = [12, 75, 150, 180, 145, 525, 50]\n",
        "\n",
        "for i in numbers:\n",
        "  if i>500:\n",
        "    break\n",
        "  elif i>150:\n",
        "    continue\n",
        "  elif i%5==0:\n",
        "    print(i)\n",
        "  \n",
        "  "
      ],
      "metadata": {
        "colab": {
          "base_uri": "https://localhost:8080/"
        },
        "id": "JaxzHhBzw_Tu",
        "outputId": "b3452f12-2706-421c-d2b9-4881975ee519"
      },
      "execution_count": 35,
      "outputs": [
        {
          "output_type": "stream",
          "name": "stdout",
          "text": [
            "75\n",
            "150\n",
            "145\n"
          ]
        }
      ]
    },
    {
      "cell_type": "markdown",
      "source": [
        "#Q5. Print the given list in reverse order."
      ],
      "metadata": {
        "id": "HLWmpZGW0VvU"
      }
    },
    {
      "cell_type": "code",
      "source": [
        "list1 = [10, 20, 30, 40, 50]\n",
        "\n",
        "print(f\"reversed list is: {list1[::-1]}\")"
      ],
      "metadata": {
        "colab": {
          "base_uri": "https://localhost:8080/"
        },
        "id": "rBdlGWFX0XId",
        "outputId": "7832b90e-d8b7-4af7-8b56-91237846db65"
      },
      "execution_count": 37,
      "outputs": [
        {
          "output_type": "stream",
          "name": "stdout",
          "text": [
            "reversed list is: [50, 40, 30, 20, 10]\n"
          ]
        }
      ]
    }
  ]
}