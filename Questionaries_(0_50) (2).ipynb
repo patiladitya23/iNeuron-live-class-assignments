{
  "nbformat": 4,
  "nbformat_minor": 0,
  "metadata": {
    "colab": {
      "provenance": []
    },
    "kernelspec": {
      "name": "python3",
      "display_name": "Python 3"
    },
    "language_info": {
      "name": "python"
    }
  },
  "cells": [
    {
      "cell_type": "markdown",
      "source": [
        " 1. Print the first 5 positive integers in ascending order with one number in each line"
      ],
      "metadata": {
        "id": "6oOHXP6Cq4Cd"
      }
    },
    {
      "cell_type": "code",
      "execution_count": null,
      "metadata": {
        "colab": {
          "base_uri": "https://localhost:8080/"
        },
        "id": "fNUKalPwq0bM",
        "outputId": "795530a3-2cd7-4be5-f178-d48155f410f3"
      },
      "outputs": [
        {
          "output_type": "stream",
          "name": "stdout",
          "text": [
            "1\n",
            "2\n",
            "3\n",
            "4\n",
            "5\n"
          ]
        }
      ],
      "source": [
        "n = 5\n",
        "for i in range (1,n+1):\n",
        "  print (i)"
      ]
    },
    {
      "cell_type": "markdown",
      "source": [
        " 2. Print the following pattern\n",
        "*\n",
        "**\n",
        "***\n",
        "****\n",
        "*****\n",
        " There are no spaces between consecutive stars. There are no spaces at the end of each line."
      ],
      "metadata": {
        "id": "Am9wo4McrVxJ"
      }
    },
    {
      "cell_type": "code",
      "source": [
        "n = 5\n",
        "for i in range(0,n+1):\n",
        "  print(i*'*')"
      ],
      "metadata": {
        "colab": {
          "base_uri": "https://localhost:8080/"
        },
        "id": "sz51ay4OrjDV",
        "outputId": "42d5257d-c34a-47a4-90de-475559630725"
      },
      "execution_count": null,
      "outputs": [
        {
          "output_type": "stream",
          "name": "stdout",
          "text": [
            "\n",
            "*\n",
            "**\n",
            "***\n",
            "****\n",
            "*****\n"
          ]
        }
      ]
    },
    {
      "cell_type": "markdown",
      "source": [
        " 3. Accept an integer as input and print its square as output."
      ],
      "metadata": {
        "id": "FbBakJt1rz2W"
      }
    },
    {
      "cell_type": "code",
      "source": [
        "n = int(input(\"Enter the integer: \"))\n",
        "sq = n**2\n",
        "print(f'Square of {n} is {sq}')"
      ],
      "metadata": {
        "colab": {
          "base_uri": "https://localhost:8080/"
        },
        "id": "mISiwepysX4X",
        "outputId": "cfdce371-6118-4e4a-dffe-7cd68251ef2d"
      },
      "execution_count": null,
      "outputs": [
        {
          "output_type": "stream",
          "name": "stdout",
          "text": [
            "Enter the integer: 2\n",
            "Square of 2 is 4\n"
          ]
        }
      ]
    },
    {
      "cell_type": "code",
      "source": [
        "def test(a):\n",
        "  return a**2\n",
        "\n",
        "test(2)"
      ],
      "metadata": {
        "colab": {
          "base_uri": "https://localhost:8080/"
        },
        "id": "isnvREJFr83O",
        "outputId": "8f367e06-9397-4346-d186-bdb80c901b6d"
      },
      "execution_count": null,
      "outputs": [
        {
          "output_type": "execute_result",
          "data": {
            "text/plain": [
              "4"
            ]
          },
          "metadata": {},
          "execution_count": 4
        }
      ]
    },
    {
      "cell_type": "markdown",
      "source": [
        " 4.Accept two integers as input and print their sum as output."
      ],
      "metadata": {
        "id": "_pPsPsKrs1U7"
      }
    },
    {
      "cell_type": "code",
      "source": [
        "n,m = input(\"Enter two integer: \").split()\n",
        "sum = int(n) + int(m)\n",
        "print(f'Sum of {n} & {m} is {sum}')"
      ],
      "metadata": {
        "colab": {
          "base_uri": "https://localhost:8080/"
        },
        "id": "3jZiuhees8zn",
        "outputId": "9ab94bb5-42eb-495c-a464-9df794bdf628"
      },
      "execution_count": null,
      "outputs": [
        {
          "output_type": "stream",
          "name": "stdout",
          "text": [
            "Enter two integer: 2 4\n",
            "Sum of 2 & 4 is 6\n"
          ]
        }
      ]
    },
    {
      "cell_type": "code",
      "source": [
        "def test1(a,b) -> int:\n",
        "  \"\"\"This function returns sum of arguments\"\"\"\n",
        "  return (a+b)\n",
        "\n",
        "test1(2,3)"
      ],
      "metadata": {
        "colab": {
          "base_uri": "https://localhost:8080/"
        },
        "id": "i8fi-K5cveXV",
        "outputId": "07933eaa-cb01-43e1-9234-7057a62f0434"
      },
      "execution_count": null,
      "outputs": [
        {
          "output_type": "execute_result",
          "data": {
            "text/plain": [
              "5"
            ]
          },
          "metadata": {},
          "execution_count": 23
        }
      ]
    },
    {
      "cell_type": "markdown",
      "source": [
        " 5. Accept two words as input and print the two words after adding a space between them"
      ],
      "metadata": {
        "id": "TVCtGxW0v36d"
      }
    },
    {
      "cell_type": "code",
      "source": [
        "n,m = input(\"Enter two words: \").split()\n",
        "\n",
        "print(n.title() + \" \" + m.title())"
      ],
      "metadata": {
        "colab": {
          "base_uri": "https://localhost:8080/"
        },
        "id": "bn7-xfq4vbXN",
        "outputId": "c2e7c9b5-95fb-4e97-c9b8-79c048a8e7e5"
      },
      "execution_count": null,
      "outputs": [
        {
          "output_type": "stream",
          "name": "stdout",
          "text": [
            "Enter two words: aditya patil\n",
            "Aditya Patil\n"
          ]
        }
      ]
    },
    {
      "cell_type": "code",
      "source": [
        "def test2(a : str,b : str) -> str:\n",
        "  \"\"\"This function returns name with space added in between\"\"\"\n",
        "  return (a.title() + \" \" + b.title())\n",
        "\n",
        "test2('aditya','patil')"
      ],
      "metadata": {
        "colab": {
          "base_uri": "https://localhost:8080/",
          "height": 35
        },
        "id": "lm75kUIBxY5t",
        "outputId": "828ac2e5-522a-4107-c422-df77bd6fb7e3"
      },
      "execution_count": null,
      "outputs": [
        {
          "output_type": "execute_result",
          "data": {
            "text/plain": [
              "'Aditya Patil'"
            ],
            "application/vnd.google.colaboratory.intrinsic+json": {
              "type": "string"
            }
          },
          "metadata": {},
          "execution_count": 49
        }
      ]
    },
    {
      "cell_type": "markdown",
      "source": [
        " 6. Accept the registration number of a vehicle as input and print its state-code as output."
      ],
      "metadata": {
        "id": "74BP-HA-zmpJ"
      }
    },
    {
      "cell_type": "code",
      "source": [
        "n= input(\"Enter your vehicle number(eg:MH19AD1234): \")\n",
        "print(str(n[0:2]).upper())"
      ],
      "metadata": {
        "colab": {
          "base_uri": "https://localhost:8080/"
        },
        "id": "bzLud03h0nj_",
        "outputId": "71125e41-d759-422f-ae68-2fe5bdc423c5"
      },
      "execution_count": null,
      "outputs": [
        {
          "output_type": "stream",
          "name": "stdout",
          "text": [
            "Enter your vehicle number(eg:MH19AD1234): mh19ad1234\n",
            "MH\n"
          ]
        }
      ]
    },
    {
      "cell_type": "markdown",
      "source": [
        " 7.Accept a five-digit number as input and print the sum of its digits as output."
      ],
      "metadata": {
        "id": "yukH3DpKWE5Z"
      }
    },
    {
      "cell_type": "code",
      "source": [
        "n = input(\"Enter 5 digit number: \")\n",
        "sum = 0\n",
        "for i in n:\n",
        "  sum = sum + int(i)\n",
        "print(sum)"
      ],
      "metadata": {
        "colab": {
          "base_uri": "https://localhost:8080/"
        },
        "id": "1U-i31TEGTZ3",
        "outputId": "ff5662c5-d381-455d-b524-3d8ce2422400"
      },
      "execution_count": null,
      "outputs": [
        {
          "output_type": "stream",
          "name": "stdout",
          "text": [
            "Enter 5 digit number: 12345\n",
            "15\n"
          ]
        }
      ]
    },
    {
      "cell_type": "code",
      "source": [
        "def test5(a:int)->int:\n",
        "  \"\"\"This function takes 5 digit number as argument and returns sum of digits of argument.\"\"\"\n",
        "  a = str(a)\n",
        "  sum = 0\n",
        "  if len(a) == 5:\n",
        "    for i in a:\n",
        "      sum = sum + int(i)\n",
        "  return sum\n",
        "\n",
        "test5(12345)"
      ],
      "metadata": {
        "colab": {
          "base_uri": "https://localhost:8080/"
        },
        "id": "Tamk7v_PG1MW",
        "outputId": "dcebef58-d80c-4f02-e181-3de6d8a88076"
      },
      "execution_count": null,
      "outputs": [
        {
          "output_type": "execute_result",
          "data": {
            "text/plain": [
              "15"
            ]
          },
          "metadata": {},
          "execution_count": 21
        }
      ]
    },
    {
      "cell_type": "markdown",
      "source": [
        " 8.Accept five words as input and print the sentence formed by these words after adding a space between consecutive words and a full stop at the end."
      ],
      "metadata": {
        "id": "Tz5XbNVjIz-3"
      }
    },
    {
      "cell_type": "code",
      "source": [
        "def test6(a:str,b:str,c:str,d:str,e:str)->str:\n",
        "  \"\"\"This function takes 5 string arguments and returns sentence formed with those arguments with full stop at the end\"\"\"\n",
        "  return (a.title() +\" \"+ b +\" \"+ c +\" \"+ d +\" \"+ e +\".\")\n",
        "\n",
        "test6(\"hello\",\"my\",\"name\",\"is\",\"Aditya\")"
      ],
      "metadata": {
        "colab": {
          "base_uri": "https://localhost:8080/",
          "height": 35
        },
        "id": "K72NweEBI8jq",
        "outputId": "12ecca42-52d9-4598-c25e-7f89b0bb6e55"
      },
      "execution_count": null,
      "outputs": [
        {
          "output_type": "execute_result",
          "data": {
            "text/plain": [
              "'Hello my name is Aditya.'"
            ],
            "application/vnd.google.colaboratory.intrinsic+json": {
              "type": "string"
            }
          },
          "metadata": {},
          "execution_count": 25
        }
      ]
    },
    {
      "cell_type": "markdown",
      "source": [
        " 9.Accept the date in DD-MM-YYYY format as input and print the year as output."
      ],
      "metadata": {
        "id": "ZvvcWWb2Ka4G"
      }
    },
    {
      "cell_type": "code",
      "source": [
        "n = input(\"Enter the date(eg: DD-MM-YYYY): \")\n",
        "print(n[6:])"
      ],
      "metadata": {
        "colab": {
          "base_uri": "https://localhost:8080/"
        },
        "id": "Pn4MqxlBKZ7E",
        "outputId": "9dde7f33-fee9-430b-de7e-2f76cbb5b860"
      },
      "execution_count": null,
      "outputs": [
        {
          "output_type": "stream",
          "name": "stdout",
          "text": [
            "Enter the date(eg: DD-MM-YYYY): 11-22-2023\n",
            "2023\n"
          ]
        }
      ]
    },
    {
      "cell_type": "markdown",
      "source": [
        " 10.Accept a sequence of five single digit numbers separated by commas as input. Print the product of all five numbers."
      ],
      "metadata": {
        "id": "DNu-Hfc9PaQU"
      }
    },
    {
      "cell_type": "code",
      "source": [
        "def test7(a:int,b:int,c:int,d:int,e:int) -> int:\n",
        "  return a*b*c*d*e\n",
        "\n",
        "test7(1,2,3,4,5)"
      ],
      "metadata": {
        "colab": {
          "base_uri": "https://localhost:8080/"
        },
        "id": "r1P8KuXdPZxy",
        "outputId": "e9848f2e-5488-41e7-9743-e8a943a5a5ef"
      },
      "execution_count": null,
      "outputs": [
        {
          "output_type": "execute_result",
          "data": {
            "text/plain": [
              "120"
            ]
          },
          "metadata": {},
          "execution_count": 37
        }
      ]
    },
    {
      "cell_type": "markdown",
      "source": [
        " 11. Accept two positive integers x and y as input. Print the number of digits in xy"
      ],
      "metadata": {
        "id": "ePPYA6oyQMzT"
      }
    },
    {
      "cell_type": "code",
      "source": [
        "n,m = input(\"Enter two positive integers: \").split()\n",
        "print(f\"Number of digits in {n} & {m} is {len(n)+len(m)}\")"
      ],
      "metadata": {
        "colab": {
          "base_uri": "https://localhost:8080/"
        },
        "id": "tCNcOv3QQMbd",
        "outputId": "d7f0bb71-02fa-4be5-9111-d753adf15172"
      },
      "execution_count": null,
      "outputs": [
        {
          "output_type": "stream",
          "name": "stdout",
          "text": [
            "Enter two positive integers: 10 111\n",
            "Number of digits in 10 & 111 is 5\n"
          ]
        }
      ]
    },
    {
      "cell_type": "markdown",
      "source": [
        "12. Accept a string as input. If the input string is of odd length, then \n",
        "continue with it. If the input string is of even length, make the \n",
        "string of odd length as below:\n",
        "\n",
        "\n",
        "\n",
        "\n",
        "\n",
        "*   If the last character is a period (.), then remove it \n",
        "\n",
        "*   If the last character is not a period, then add a period (.) to the \n",
        "end of the string\n",
        "\n",
        "Call this string of odd length word. Select a substring made up of \n",
        "three consecutive characters from word such that there are an \n",
        "equal number of characters to the left and right of this substring. \n",
        "Print this substring as output. You can assume that all input \n",
        "strings will be in lower case and will have a length of at least four"
      ],
      "metadata": {
        "id": "eHWDxX74TuHr"
      }
    },
    {
      "cell_type": "code",
      "source": [
        "n = (input(\"Enter a word: \")).lower()\n",
        "s =str()\n",
        "if len(n) < 4 and len(n)%2==0:\n",
        "  if n[-1]=='.':\n",
        "    n = n[:-1]\n",
        "    print(n)\n",
        "  else:\n",
        "    n = n+'.'\n",
        "    print(n)\n",
        "elif len(n)%2==0:\n",
        "    if n[-1]=='.':\n",
        "      s = n[:-1]\n",
        "      #print(s)\n",
        "    else:\n",
        "      s = n+'.'\n",
        "      #print(s)\n",
        "    len(s)%2!=0\n",
        "    f = str(len(s)/2)\n",
        "    f = int(f[0])\n",
        "    f = f-1\n",
        "    print(s[f]+s[f+1]+s[f+2])\n",
        "    "
      ],
      "metadata": {
        "colab": {
          "base_uri": "https://localhost:8080/"
        },
        "id": "5NVepBryc0IC",
        "outputId": "4aed2218-21f3-4d50-871a-00a460a45c76"
      },
      "execution_count": null,
      "outputs": [
        {
          "output_type": "stream",
          "name": "stdout",
          "text": [
            "Enter a word: ad\n",
            "ad.\n"
          ]
        }
      ]
    },
    {
      "cell_type": "markdown",
      "source": [
        " 13. Accept three positive integers as input and check if they form the sides of a right triangle. Print YES if they form one, and NO is they do not. The input will have three lines, with one integer on each line. The output should be a single line containing one of these two strings: YES or NO."
      ],
      "metadata": {
        "id": "6wCK_UPTxvqR"
      }
    },
    {
      "cell_type": "code",
      "source": [
        "a,b,c = input(\"Enter lenght of triangle as integers to check if the triangle is right angle triangle or not: \").split()\n",
        "h = max(int(a),int(b),int(c))\n",
        "l = min(int(a),int(b),int(c))\n",
        "for i in (int(a),int(b),int(c)):\n",
        "  if i != h and i!=l:\n",
        "    m=i\n",
        "if h**2 == l**2 + m**2:\n",
        "  print(\"Yes\")\n",
        "else:\n",
        "  print(\"No\")"
      ],
      "metadata": {
        "colab": {
          "base_uri": "https://localhost:8080/"
        },
        "id": "CuEbsUiyx3Dd",
        "outputId": "e2c9a597-2311-430a-8b1d-c6dc4ca82d77"
      },
      "execution_count": null,
      "outputs": [
        {
          "output_type": "stream",
          "name": "stdout",
          "text": [
            "Enter lenght of triangle as integers to check if the triangle is right angle triangle or not: 13 5 12\n",
            "Yes\n"
          ]
        }
      ]
    },
    {
      "cell_type": "markdown",
      "source": [
        "14. EvenOdd is a tech startup. Each employee at the startup is given an employee id which is a unique \n",
        "positive integer. On one warm Sunday evening, five employees of the company come together for a \n",
        "meeting and sit at a circular table:\n",
        "\n",
        "The employees follow a strange convention. They will continue the meeting only if the following \n",
        "condition is satisfied.\n",
        "\n",
        "The sum of the employee-ids of every pair of adjacent employees at the table must be an even \n",
        "number.\n",
        "\n",
        "They are so lazy that they won’t move around to satisfy the above condition, If the current seating \n",
        "plan doesn’t satisfy the condition, the meeting will be cancelled. You are given the employee-id of all \n",
        "five employees. Your task is to decide if the meeting happened or not.\n",
        "\n",
        "The input will be five lined, each containing an integer. The ith line will have the employee-id of Ei.\n",
        "\n",
        "The output will be a single line containing one of these two strings: YES or NO"
      ],
      "metadata": {
        "id": "15JB6zi059h0"
      }
    },
    {
      "cell_type": "code",
      "source": [
        "a = int(input(\"Enter your Emplyoee ID: \"))\n",
        "b = int(input(\"Enter your Emplyoee ID: \"))\n",
        "c = int(input(\"Enter your Emplyoee ID: \"))\n",
        "d = int(input(\"Enter your Emplyoee ID: \"))\n",
        "e = int(input(\"Enter your Emplyoee ID: \"))\n",
        "\n",
        "if (a+b)%2==0 and (b+c)%2==0 and (c+d)%2==0 and (d+e)%2==0 and (e+a)%2==0:\n",
        "  print(\"Lets start the meeting.\")\n",
        "else:\n",
        "  print(\"Meeting is cancelled\")\n"
      ],
      "metadata": {
        "colab": {
          "base_uri": "https://localhost:8080/"
        },
        "id": "OeI3L9jb6UZw",
        "outputId": "c5d64ecb-19fc-4e82-c691-d7a8527e7041"
      },
      "execution_count": null,
      "outputs": [
        {
          "output_type": "stream",
          "name": "stdout",
          "text": [
            "Enter your Emplyoee ID: 2\n",
            "Enter your Emplyoee ID: 4\n",
            "Enter your Emplyoee ID: 6\n",
            "Enter your Emplyoee ID: 8\n",
            "Enter your Emplyoee ID: 10\n",
            "Lets start the meeting.\n"
          ]
        }
      ]
    },
    {
      "cell_type": "markdown",
      "source": [
        "15. Accept a string as input and print the vowels present in the string in \n",
        "alphabetical order. If the string doesn’t contain any vowels, then \n",
        "print the string none as output. Each vowel that appears in the input \n",
        "string – irrespective of its case should appear just once in lower case \n",
        "in the output"
      ],
      "metadata": {
        "id": "aWXU75bp8XVJ"
      }
    },
    {
      "cell_type": "code",
      "source": [
        "s = input(\"Enter the string: \")\n",
        "v = ['a','e','i','o','u']\n",
        "o = list()\n",
        "for i in s:\n",
        "  if i in v:\n",
        "    o.append(i)\n",
        "o = sorted(tuple(set(o)))\n",
        "print(o)"
      ],
      "metadata": {
        "colab": {
          "base_uri": "https://localhost:8080/"
        },
        "id": "pz_F9Ktc8DAw",
        "outputId": "c4545afe-8613-4d9a-fd2a-9a4fe6b61b59"
      },
      "execution_count": null,
      "outputs": [
        {
          "output_type": "stream",
          "name": "stdout",
          "text": [
            "Enter the string: uoiea\n",
            "['a', 'e', 'i', 'o', 'u']\n"
          ]
        }
      ]
    },
    {
      "cell_type": "markdown",
      "source": [
        "16.You are given the date of birth of two persons, not necessarily from \n",
        "the same family. Your task is to find the younger of the two. If both \n",
        "of them share the same date of birth, then the younger of the two is \n",
        "assumed to be that person whose name comes first in alphabetical \n",
        "order.\n",
        "The input will have four lines. The first two lines correspond to the \n",
        "first person, while the last two lines correspond to the second \n",
        "person. For each person, the first line corresponds to the name and \n",
        "the second line corresponds to the date of birth in “DD-MM-YYYY” \n",
        "format. Your output should be the name of the younger of the two."
      ],
      "metadata": {
        "id": "KzB56wwC7SDI"
      }
    },
    {
      "cell_type": "code",
      "source": [
        "p1_name = input(\"Enter Name: \")\n",
        "p1_dob = input(\"Enter Date of Birth(eg : dd-mm-yyyy)\")\n",
        "p2_name = input(\"Enter Name: \")\n",
        "p2_dob = input(\"Enter Date of Birth(eg : dd-mm-yyyy )\")\n",
        "\n",
        "if p1_dob[6:] < p2_dob[6:]:\n",
        "  print(p1_name)\n",
        "elif p1_dob[6:] > p2_dob[6:]:\n",
        "  print(p2_name)\n",
        "elif p1_dob[6:] == p2_dob[6:]:\n",
        "  if p1_dob[3:5] > p2_dob[3:5]:\n",
        "    print(p2_name)\n",
        "  elif p1_dob[3:5] < p2_dob[3:5]: \n",
        "    print(p1_name)\n",
        "  elif p1_dob[3:5] == p2_dob[3:5]:\n",
        "    if p1_dob[:2] > p2_dob[0:2]:\n",
        "      print(p2_name)\n",
        "    elif p1_dob[:2] < p2_dob[0:2]:\n",
        "      print(p1_name)\n",
        "    elif p1_dob[:2] == p2_dob[0:2]:\n",
        "      if p1_name < p2_name:\n",
        "        print(p1_name)\n",
        "      elif p1_name > p2_name:\n",
        "        print(p2_name)"
      ],
      "metadata": {
        "colab": {
          "base_uri": "https://localhost:8080/"
        },
        "id": "ARns15LL7VL8",
        "outputId": "0d62fe19-c8e4-4857-c6a0-cf89e5ec9a52"
      },
      "execution_count": null,
      "outputs": [
        {
          "output_type": "stream",
          "name": "stdout",
          "text": [
            "Enter Name: aditya\n",
            "Enter Date of Birth(eg : dd-mm-yyyy)03-03-1997\n",
            "Enter Name: adityb\n",
            "Enter Date of Birth(eg : dd-mm-yyyy )03-03-1997\n",
            "aditya\n"
          ]
        }
      ]
    },
    {
      "cell_type": "markdown",
      "source": [
        "17.Accept a string as input. Your task is to determine if the input string is a valid password or not. For a \n",
        "string to be a valid password, it must satisfy all the conditions given below:\n",
        "\n",
        "*  (1) It should have at least 8 and at most 32 characters\n",
        "*  (2) It should start with an uppercase or lowercase letter\n",
        "*  (3) It should not have any of these characters: / \\ = ' \"\n",
        "*  (4) It should not have spaces\n",
        "It could have any character that is not mentioned in the list of characters to be avoided (points 3 and \n",
        "4). Output True if the string forms a valid password and False otherwise"
      ],
      "metadata": {
        "id": "6hKZbFkrDx3r"
      }
    },
    {
      "cell_type": "code",
      "source": [
        "n = input(\"Enter your password: \")\n",
        "\n",
        "if 8 <= len(n) <= 32 and n[0].isalpha() and '/' not in n and '\\\\' not in n and '=' not in n and '\\'' not in n and ' ' not in n:\n",
        "  print(True)\n",
        "else:\n",
        "  print(False)"
      ],
      "metadata": {
        "colab": {
          "base_uri": "https://localhost:8080/"
        },
        "id": "GDCEEAJkDy80",
        "outputId": "0ecca2e3-2123-41a6-e235-8c33085cbc51"
      },
      "execution_count": null,
      "outputs": [
        {
          "output_type": "stream",
          "name": "stdout",
          "text": [
            "Enter your password: Aditya@0203\n",
            "True\n"
          ]
        }
      ]
    },
    {
      "cell_type": "markdown",
      "source": [
        "18. Accept a positive integer n as input and print the first n positive integers, one number on each line."
      ],
      "metadata": {
        "id": "N3PX6jV0X8ot"
      }
    },
    {
      "cell_type": "code",
      "source": [
        "n = int(input(\"Enter positive integer: \"))\n",
        "if n > 0:\n",
        "  for i in range(1,n+1):\n",
        "    print(i)\n",
        "else:\n",
        "  print(\"Argument is invalid\")"
      ],
      "metadata": {
        "colab": {
          "base_uri": "https://localhost:8080/"
        },
        "id": "feB6geQQYv2J",
        "outputId": "749a3ab6-c1f2-4925-b473-f78bf8c2fa59"
      },
      "execution_count": null,
      "outputs": [
        {
          "output_type": "stream",
          "name": "stdout",
          "text": [
            "Enter positive integer: 5\n",
            "1\n",
            "2\n",
            "3\n",
            "4\n",
            "5\n"
          ]
        }
      ]
    },
    {
      "cell_type": "markdown",
      "source": [
        "19.Accept a positive integer n as input, where n is greater than 1. Print PRIME if n is a prime number and NOTPRIME otherwise."
      ],
      "metadata": {
        "id": "kDay5EgfZOLR"
      }
    },
    {
      "cell_type": "code",
      "source": [
        "n = int(input(\"Enter posisitve integer: \"))\n",
        "flag = 0\n",
        "if n > 1:\n",
        "  for i in (2,n):\n",
        "    if n%i!=0:\n",
        "      flag = flag + 1\n",
        "  if flag > 0:\n",
        "    print(\"Prime\")\n",
        "  else:\n",
        "    print(\"Not Prime\")\n",
        "else:\n",
        "  print(\"Argument invalid\")"
      ],
      "metadata": {
        "colab": {
          "base_uri": "https://localhost:8080/"
        },
        "id": "hW1SSNWCZTY7",
        "outputId": "561f736e-94a8-4cb9-b187-cd38512d7dde"
      },
      "execution_count": null,
      "outputs": [
        {
          "output_type": "stream",
          "name": "stdout",
          "text": [
            "Enter posisitve integer: 111\n",
            "Prime\n"
          ]
        }
      ]
    },
    {
      "cell_type": "markdown",
      "source": [
        "20. Accept two strings as input and form a new string by removing all characters from the second string which are present in the first string. \n",
        "Print this new string as output. You can assume that all input strings will be in lower case."
      ],
      "metadata": {
        "id": "_TuqBL3VEH4Z"
      }
    },
    {
      "cell_type": "code",
      "source": [
        "a,b = input(\"Enter two strings: \").split()\n",
        "c = str()\n",
        "for i in range(len(b)):\n",
        "  if b[i] not in a:\n",
        "    c = c + b[i]\n",
        "print(a+c)"
      ],
      "metadata": {
        "colab": {
          "base_uri": "https://localhost:8080/"
        },
        "id": "aa59jm_iEThp",
        "outputId": "3bb5bbec-7044-42f6-8557-3126cef7c321"
      },
      "execution_count": null,
      "outputs": [
        {
          "output_type": "stream",
          "name": "stdout",
          "text": [
            "Enter two strings: aditya dishant\n",
            "adityashn\n"
          ]
        }
      ]
    },
    {
      "cell_type": "markdown",
      "source": [
        "21.Accept a phone number as input. A valid phone number should satisfy \n",
        "the following constraints.\n",
        "*  (1) The number should start with one of these digits: 6, 7, 8, 9\n",
        "*  (2) The number should be exactly 10 digits long.\n",
        "*  (3) No digit should appear more than 7 times in the number.\n",
        "*  (4) No digit should appear more than 5 times in a row in the \n",
        "number.\n",
        "\n",
        "If the fourth condition is not very clear, then consider this example: \n",
        "the number 9888888765 is invalid because the digit 8 appears more \n",
        "than 5 times in a row. Print the string valid if the phone number is \n",
        "valid. If not, print the string invalid."
      ],
      "metadata": {
        "id": "gm9GVBElnl9u"
      }
    },
    {
      "cell_type": "code",
      "source": [
        "n = input(\"Enter your mobile number: \")\n",
        "flag = False\n",
        "for i in range(10):\n",
        "  if n.count(n[i])<8:\n",
        "    flag = True\n",
        "    if n[i]*6 in n:\n",
        "      flag = False\n",
        "      break\n",
        "    else:\n",
        "      break\n",
        "if len(n) == 10 and int(n[0]) > 5 and n.isdigit() and flag:\n",
        "  print(\"Valid\")\n",
        "else:\n",
        "  print(\"Invalid\")"
      ],
      "metadata": {
        "colab": {
          "base_uri": "https://localhost:8080/"
        },
        "id": "voR5H8w3B-xT",
        "outputId": "3d8bb041-0fa1-49c3-ca59-105ed68534a5"
      },
      "execution_count": null,
      "outputs": [
        {
          "output_type": "stream",
          "name": "stdout",
          "text": [
            "Enter your mobile number: 8999489394\n",
            "Valid\n"
          ]
        }
      ]
    },
    {
      "cell_type": "markdown",
      "source": [
        "22. In the first line of input, accept a sequence of space-separated words. In the second line of input, accept a single word. If this word is not present in the sequence, print NO. If this word is present in the sequence, then print YES and in the next line of the output, print the number of times the word appears in the sequence."
      ],
      "metadata": {
        "id": "-KDj4ELIFgTm"
      }
    },
    {
      "cell_type": "code",
      "source": [
        "a = input(\"Enter the  a sequence of space-separated words: \")\n",
        "b = input(\"Enter the word: \")\n",
        "l = a.split()\n",
        "if b not in l[0]:\n",
        "  print(\"NO\")\n",
        "else:\n",
        "  print(\"YES\")\n",
        "  print(l.count(b))"
      ],
      "metadata": {
        "colab": {
          "base_uri": "https://localhost:8080/"
        },
        "id": "JE-2tNQGFp1Q",
        "outputId": "2fdddcd5-c524-41da-fc21-481944ce9ee8"
      },
      "execution_count": null,
      "outputs": [
        {
          "output_type": "stream",
          "name": "stdout",
          "text": [
            "Enter the  a sequence of space-separated words: hello world\n",
            "Enter the word: we\n",
            "NO\n"
          ]
        }
      ]
    },
    {
      "cell_type": "markdown",
      "source": [
        "23. Write a function named factorial that accepts an integer n as argument. It should return the factorial of n if n is a positive integer. It should return -1 if n is a negative integer, and it should return 1 if n is zero."
      ],
      "metadata": {
        "id": "RQFvgbfOJOxT"
      }
    },
    {
      "cell_type": "code",
      "source": [
        "def factorial(n):\n",
        "  fact = 1\n",
        "  if n > 0:\n",
        "    for i in range(1,n+1):\n",
        "      fact = fact * i\n",
        "    return fact\n",
        "  elif n < 0:\n",
        "    return -1\n",
        "  else :\n",
        "    return 0\n",
        "\n",
        "factorial(5)"
      ],
      "metadata": {
        "colab": {
          "base_uri": "https://localhost:8080/"
        },
        "id": "QZg_rDCGJVMv",
        "outputId": "0f970e8c-6d32-42dd-9c98-79dc5c1869b1"
      },
      "execution_count": null,
      "outputs": [
        {
          "output_type": "execute_result",
          "data": {
            "text/plain": [
              "120"
            ]
          },
          "metadata": {},
          "execution_count": 22
        }
      ]
    },
    {
      "cell_type": "markdown",
      "source": [
        "24. \n",
        "The range of a list of numbers is the difference between the maximum and minimum values in the list\n",
        "Write a function named get_range that accepts a non-empty list of real numbers as argument. It \n",
        "should return the range of the list.\n",
        "*  (1) Avoid using built-in function such as max and min.\n",
        "*  (2) You do not have to accept input from the user or print output to the console. You just have to write \n",
        "the function definition."
      ],
      "metadata": {
        "id": "sWMRr5VcKWNc"
      }
    },
    {
      "cell_type": "code",
      "source": [
        "def get_range(l:list)->range:\n",
        "  max = 0\n",
        "  min = l[0]\n",
        "  for i in l:\n",
        "    if i>max:\n",
        "      max = i\n",
        "    elif i<min:\n",
        "      min = i\n",
        "  return (max-min)\n",
        "\n",
        "get_range([10,2,3,4,5])     "
      ],
      "metadata": {
        "colab": {
          "base_uri": "https://localhost:8080/"
        },
        "id": "NlSvln7wKfQG",
        "outputId": "ed896923-5406-4db6-dc65-62b1a02db168"
      },
      "execution_count": null,
      "outputs": [
        {
          "output_type": "execute_result",
          "data": {
            "text/plain": [
              "8"
            ]
          },
          "metadata": {},
          "execution_count": 15
        }
      ]
    },
    {
      "cell_type": "markdown",
      "source": [
        "25. Write a function named read_file that accepts a text file named filename as argument. Within \n",
        "the function, read the file and print each line of the file on a separate line in the console. You shouldn't print any extra characters at the end of a line. There shouldn't be an empty line between any two consecutive lines.\n",
        "*  (1) filename is a string variable that holds the name of the file. For example, in the first test case, it is filename = 'public_1.txt'.\n",
        "*  (2) You do not have to accept input from the console. You have to write the function definition and print the contents of the file within the function"
      ],
      "metadata": {
        "id": "F-PIF_myNyry"
      }
    },
    {
      "cell_type": "code",
      "source": [],
      "metadata": {
        "id": "oi72EcqHTYdd"
      },
      "execution_count": null,
      "outputs": []
    },
    {
      "cell_type": "markdown",
      "source": [
        "26. A simple algorithm has to be designed to find out whether a student belongs to the Data Science branch or not. The input will be a student's roll number, which is of the form BR18B0000. Here, BR represents the branch code, 18 represents the year of joining, B represents the education level and 0000 represents the specific identification given to the student of that batch. The branch code for Data Science is DS. Print True if the student belongs to Data Science branch and False otherwise."
      ],
      "metadata": {
        "id": "SJmY57ApTY_C"
      }
    },
    {
      "cell_type": "code",
      "source": [
        "def test(r)->str:\n",
        "  if r[2].upper() == \"DS\":\n",
        "    print(True)\n",
        "  else:\n",
        "    print(False)\n",
        "  \n",
        "test(\"BR18B0000\")"
      ],
      "metadata": {
        "colab": {
          "base_uri": "https://localhost:8080/"
        },
        "id": "7WyhRp7OTmBo",
        "outputId": "039bfc9c-3480-495f-f9ef-3d7b5a6e467b"
      },
      "execution_count": null,
      "outputs": [
        {
          "output_type": "stream",
          "name": "stdout",
          "text": [
            "False\n"
          ]
        }
      ]
    },
    {
      "cell_type": "markdown",
      "source": [
        "27.The police are trying to track a criminal based on the evidence \n",
        "available at a crime site. Their main clue is a vehicle's damaged \n",
        "number plate. Only the string TN07 is visible. The format of the \n",
        "registration number is AA00AA00, where the first two letters are \n",
        "alphabets, next two are numbers, next two are again alphabets \n",
        "followed by two numbers at the end. A number plate is picked from a \n",
        "database of registration numbers and is given to you as input. Your \n",
        "task is to determine if this could belong to the criminal or not. \n",
        "Print True if the number plate \n",
        "contains TN07 and False otherwise."
      ],
      "metadata": {
        "id": "6oMpRNaxUsEL"
      }
    },
    {
      "cell_type": "code",
      "source": [
        "def test1(n:str):\n",
        "  if \"TN07\" in n.upper():\n",
        "    print(True)\n",
        "  else:\n",
        "    print(False)\n",
        "\n",
        "test1(\"ar05br14\")"
      ],
      "metadata": {
        "colab": {
          "base_uri": "https://localhost:8080/"
        },
        "id": "ZxF4YVzcUdrr",
        "outputId": "94fe0630-1cf9-42a5-966a-3007bbb8e7b0"
      },
      "execution_count": null,
      "outputs": [
        {
          "output_type": "stream",
          "name": "stdout",
          "text": [
            "False\n"
          ]
        }
      ]
    },
    {
      "cell_type": "markdown",
      "source": [
        "28. You are given a string and two non-negative integers as input. The \n",
        "two integers specify the start and end indices of a substring in the \n",
        "given string. Create a new string by replicating the substring a \n",
        "minimum number of times so that the resulting string is longer than \n",
        "the input string. The input parameters are the string, start index of \n",
        "the substring and the end index of substring (endpoints inclusive) \n",
        "each on a different line."
      ],
      "metadata": {
        "id": "8bF_6fYFYbrr"
      }
    },
    {
      "cell_type": "code",
      "source": [
        "def test2(n:str,s:int,e:int)->str:\n",
        "  sub_string = n[s:e+1]\n",
        "  len_substring = len(sub_string)\n",
        "  len_string = len(n)\n",
        "  for i in range(1,9):\n",
        "    new_string = sub_string*i\n",
        "    if len(new_string)>len_string:\n",
        "      break\n",
        "  return new_string"
      ],
      "metadata": {
        "id": "JSBMdp4tYeFI"
      },
      "execution_count": null,
      "outputs": []
    },
    {
      "cell_type": "code",
      "source": [
        "test2(\"code\",0,2)"
      ],
      "metadata": {
        "colab": {
          "base_uri": "https://localhost:8080/",
          "height": 35
        },
        "id": "zH2YRm7YgL25",
        "outputId": "a6046cde-693c-4f01-d080-312c4576c880"
      },
      "execution_count": null,
      "outputs": [
        {
          "output_type": "execute_result",
          "data": {
            "text/plain": [
              "'codcod'"
            ],
            "application/vnd.google.colaboratory.intrinsic+json": {
              "type": "string"
            }
          },
          "metadata": {},
          "execution_count": 37
        }
      ]
    },
    {
      "cell_type": "markdown",
      "source": [
        "29. A class teacher has decided to split her entire class into four groups, namely Sapphire, Peridot, Ruby, and Emerald for sports competitions. For dividing the students into these four groups, she has \n",
        "followed the pattern given below:\n",
        "* Sapphire - 1, 5, 9, 13, 17, 21, ...\n",
        "* Peridot - 2, 6, 10, 14, 18, 22, ...\n",
        "* Ruby - 3, 7, 11, 15, 19, 23, ...\n",
        "* Emerald - 4, 8, 12, 16, 20, 24, ...\n",
        "\n",
        "All the students are represented by their roll numbers. Based on the above pattern, given the roll number as input, print the group the student belongs to. Note that the roll number can be any positive integer and not necessarily less than 25."
      ],
      "metadata": {
        "id": "hXHIGzJEks07"
      }
    },
    {
      "cell_type": "code",
      "source": [
        "n = int(input(\"Enter the roll number: \"))\n",
        "for i in range(1,n+1,4):\n",
        "  if n == i:\n",
        "    print(\"Sapphire\")\n",
        "    break\n",
        "for j in range(2,n+1,4):\n",
        "  if n == j:\n",
        "    print(\"Preidot\")\n",
        "    break\n",
        "for k in range(3,n+1,4):\n",
        "  if n == k:\n",
        "    print(\"Ruby\")\n",
        "    break\n",
        "for l in range(4,n+1,4):\n",
        "  if n == l:\n",
        "    print(\"Emerald\")\n",
        "    break"
      ],
      "metadata": {
        "colab": {
          "base_uri": "https://localhost:8080/"
        },
        "id": "Oxa1FpBfs-pC",
        "outputId": "dee8d395-e8c1-4ccb-f8ec-bd11644881af"
      },
      "execution_count": null,
      "outputs": [
        {
          "output_type": "stream",
          "name": "stdout",
          "text": [
            "Enter the roll number: 5\n",
            "Sapphire\n"
          ]
        }
      ]
    },
    {
      "cell_type": "markdown",
      "source": [
        "30. A data science company wants to hire data scientists from abc college. \n",
        "The company follows a certain criteria for selection: for a student to \n",
        "be selected, the number of backlogs should be at most 5 and the \n",
        "CGPA (Cumulative Grade Point Average) should be greater than 6. If \n",
        "the student does not fit the above criteria, then the student is not \n",
        "offered the job. If the student is selected, then the salary offered is \n",
        "equal to 5 times his/her CGPA (in lakhs).\n",
        "Accept the number of backlogs (integer) and the CGPA (float) of the \n",
        "student as input. Your task is to determine if the student is selected or \n",
        "not. If the student is selected, then print the package. If not, then \n",
        "print the string Not Selected."
      ],
      "metadata": {
        "id": "UvE-3dt1X8kS"
      }
    },
    {
      "cell_type": "code",
      "source": [
        "def test3(b:int,c:float)->str:\n",
        "  if b<=5 and c>6:\n",
        "    print(f'Package:{c*5}LPA')\n",
        "  else:\n",
        "    print('Not Selected')\n",
        "\n",
        "test3(4,7)"
      ],
      "metadata": {
        "colab": {
          "base_uri": "https://localhost:8080/"
        },
        "id": "x74oxSHsYACJ",
        "outputId": "0ca9eb6d-2951-494a-d10e-5cdde0380c31"
      },
      "execution_count": null,
      "outputs": [
        {
          "output_type": "stream",
          "name": "stdout",
          "text": [
            "Package:35LPA\n"
          ]
        }
      ]
    },
    {
      "cell_type": "markdown",
      "source": [
        "31. Accept a string as input and print PALINDROME if it is a \n",
        "palindrome, and NOT PALINDROME otherwise"
      ],
      "metadata": {
        "id": "6GL1PshqY_6D"
      }
    },
    {
      "cell_type": "code",
      "source": [
        "def test4(s:str):\n",
        "  if s[::-1]==s:\n",
        "    print(\"PALINDROME\")\n",
        "  else:\n",
        "    print(\"NOT PALINDROME\")\n",
        "\n",
        "test4(\"mom\")"
      ],
      "metadata": {
        "colab": {
          "base_uri": "https://localhost:8080/"
        },
        "id": "pPCGKBF_ZAwu",
        "outputId": "40404a39-db08-434d-cfbb-f214c5bb5ef3"
      },
      "execution_count": null,
      "outputs": [
        {
          "output_type": "stream",
          "name": "stdout",
          "text": [
            "PALINDROME\n"
          ]
        }
      ]
    },
    {
      "cell_type": "markdown",
      "source": [
        "32. In a portal login website, you are asked to write a function get_password_strength to decide \n",
        "the strength of a password. The strength is decided based on the total score of the password, Use \n",
        "following conditions:\n",
        "* 1) If password has length greater than 7 then score increases by one point.\n",
        "* 2) If password has at least one upper case and one lower case alphabets score increases by one point.\n",
        "* 3) If password has at least one number and no consecutive numbers like 12 or 234 then score \n",
        "increases by one point.\n",
        "* 4) If password has at least one special character (any character other than numbers and alphabets) then \n",
        "score increases by one point.\n",
        "* 5) If password contains username, then it is invalid password.\n",
        "\n",
        "If the password has score of four points, three points, two points, or one point then print Very \n",
        "Strong, Strong, Moderate, or Weak respectively. If the password is invalid, then \n",
        "print PASSWORD SHOULD NOT CONTAIN USERNAME and If the score is zero, then print Use a \n",
        "different password.The arguments to the function are username and password which are \n",
        "already defined"
      ],
      "metadata": {
        "id": "M6css5rPZZ4J"
      }
    },
    {
      "cell_type": "code",
      "source": [
        "def get_password_strength(usr_name:str,psswd:str):\n",
        "  score = 0\n",
        "  c = \"ABCDEFGHIJKLMNOPQRSTUVWXYZ\"\n",
        "  flag_c = False\n",
        "  s = \"abcdefghijklmnopqrstuvwxyz\"\n",
        "  flag_s = False\n",
        "  n = \"0123456789\"\n",
        "  flag_n = False\n",
        "  flag_sc = False\n",
        "  c_no = \" \"\n",
        "\n",
        "  for i in range(len(psswd)):\n",
        "    if psswd[i] in n:\n",
        "      c_no = c_no+psswd[i]\n",
        "    elif psswd[i] in c:\n",
        "      flag_c = True\n",
        "    elif psswd[i] in s:\n",
        "      flag_s = True\n",
        "    elif psswd[i] in n:\n",
        "      flag_n = True \n",
        "    elif  psswd[i] not in c and psswd[i] not in s and psswd[i] not in n:\n",
        "      flag_sc = True\n",
        "    \n",
        "  if len(psswd)>7:\n",
        "    score = score + 1\n",
        "  if flag_c and flag_s:\n",
        "    score = score + 1\n",
        "  if c_no not in n:\n",
        "    score = score + 1\n",
        "  if flag_sc:\n",
        "    score = score + 1\n",
        " \n",
        "  \n",
        "  if score == 4:\n",
        "    print(\"Very Strong\")\n",
        "  if score == 3:\n",
        "    print(\"Strong\")\n",
        "  if score == 2:\n",
        "    print(\"Moderate\")\n",
        "  if score == 1:\n",
        "    print(\"Week\")\n",
        "  if psswd.isalnum():\n",
        "    print(\"Change the password\")\n",
        "  if usr_name in psswd:\n",
        "    print(\"Change the password\")"
      ],
      "metadata": {
        "id": "G8b3vnCnnVm1"
      },
      "execution_count": null,
      "outputs": []
    },
    {
      "cell_type": "code",
      "source": [
        "get_password_strength(\"Aditya0203\",'123')"
      ],
      "metadata": {
        "colab": {
          "base_uri": "https://localhost:8080/"
        },
        "id": "Z8P6Ii1XvNr3",
        "outputId": "a1fe4f00-b304-4fd8-e80e-2ff414549df5"
      },
      "execution_count": null,
      "outputs": [
        {
          "output_type": "stream",
          "name": "stdout",
          "text": [
            "Week\n",
            "Change the password\n"
          ]
        }
      ]
    },
    {
      "cell_type": "markdown",
      "source": [
        "33.decorator that logs the date and time"
      ],
      "metadata": {
        "id": "Bwr0SscTMkWW"
      }
    },
    {
      "cell_type": "code",
      "source": [
        "from datetime import datetime\n",
        "\n",
        "def test1(func):\n",
        "  def test2():\n",
        "    print(f'Run on {datetime.today().strftime(\"%Y-%m-%d %H:%M:%S\")}')\n",
        "    func()\n",
        "  return test2\n",
        "\n",
        "@test1    \n",
        "def test3():\n",
        "  print(\"Test2 function is called.\")"
      ],
      "metadata": {
        "id": "fK7oBpaJMo89"
      },
      "execution_count": null,
      "outputs": []
    },
    {
      "cell_type": "code",
      "source": [
        "test3()"
      ],
      "metadata": {
        "colab": {
          "base_uri": "https://localhost:8080/"
        },
        "id": "42dmqSVTo1P0",
        "outputId": "21587442-6e5f-4317-9593-23923a75b8a9"
      },
      "execution_count": null,
      "outputs": [
        {
          "output_type": "stream",
          "name": "stdout",
          "text": [
            "Run on 2023-01-18 11:37:29\n",
            "Test2 function is called.\n"
          ]
        }
      ]
    },
    {
      "cell_type": "markdown",
      "source": [
        "34.Program to Get Data Items From a List Appearing Odd Number of Times"
      ],
      "metadata": {
        "id": "w212-JeVrE6P"
      }
    },
    {
      "cell_type": "code",
      "source": [
        "def test4(l:list)->list:\n",
        "  odd = list()\n",
        "  for i in range(len(l)):\n",
        "    if (l.count(l[i]))%2!=0:\n",
        "      odd.append(l[i])\n",
        "  return odd  "
      ],
      "metadata": {
        "id": "d_6ID_barELl"
      },
      "execution_count": null,
      "outputs": []
    },
    {
      "cell_type": "markdown",
      "source": [
        "35.What are decorators in Python?\n",
        "*  Decorator is a tool which add more functionality to the functions.\n",
        "*  Decorators are represented by '@'\n"
      ],
      "metadata": {
        "id": "0tkk1H9Rt5Tw"
      }
    },
    {
      "cell_type": "code",
      "source": [
        "#example\n",
        "def split(func):\n",
        "  def wrapper():\n",
        "    function2 = func()\n",
        "    return function2.split()\n",
        "  return wrapper\n",
        "\n",
        "def upper(func):\n",
        "  def wrapper():\n",
        "    function = func()\n",
        "    return function.upper()\n",
        "  return wrapper"
      ],
      "metadata": {
        "id": "iri10vBM3nVd"
      },
      "execution_count": null,
      "outputs": []
    },
    {
      "cell_type": "code",
      "source": [
        "@split\n",
        "@upper\n",
        "def text()->str:\n",
        "  return \"Hello World\""
      ],
      "metadata": {
        "id": "6AnHLk2I3oPj"
      },
      "execution_count": null,
      "outputs": []
    },
    {
      "cell_type": "code",
      "source": [
        "text()"
      ],
      "metadata": {
        "colab": {
          "base_uri": "https://localhost:8080/"
        },
        "id": "A35QECMz3rGy",
        "outputId": "2a4405b8-c3c4-4561-a686-95a510497e02"
      },
      "execution_count": null,
      "outputs": [
        {
          "output_type": "execute_result",
          "data": {
            "text/plain": [
              "['HELLO', 'WORLD']"
            ]
          },
          "metadata": {},
          "execution_count": 51
        }
      ]
    },
    {
      "cell_type": "markdown",
      "source": [
        "36. remove items from a list while iterating but without creating a different copy of a list.\n",
        "Remove numbers greater than 50\n",
        "*  number_list = [10, 20, 30, 40, 50, 60, 70, 80, 90, 100]\n",
        "*  Expected Output: [10, 20, 30, 40, 50]"
      ],
      "metadata": {
        "id": "VhaeXGhHugNh"
      }
    },
    {
      "cell_type": "code",
      "source": [
        "number_list = [10, 20, 30, 40, 50, 60, 70, 80, 90, 100]\n",
        "number_list = [i for i in number_list if i<=50]\n",
        "print(number_list)"
      ],
      "metadata": {
        "colab": {
          "base_uri": "https://localhost:8080/"
        },
        "id": "uaHlKLz34Ezt",
        "outputId": "e9e7f18d-6d13-42c8-d6a7-da9092c4e05e"
      },
      "execution_count": null,
      "outputs": [
        {
          "output_type": "stream",
          "name": "stdout",
          "text": [
            "[10, 20, 30, 40, 50]\n"
          ]
        }
      ]
    },
    {
      "cell_type": "markdown",
      "source": [
        "37.  Display all duplicate items from a list\n",
        "*  sample_list = [10, 20, 60, 30, 20, 40, 30, 60, 70, 80]\n",
        "*  Expected Output: [20, 60, 30]"
      ],
      "metadata": {
        "id": "WTBXGxVC4DNS"
      }
    },
    {
      "cell_type": "code",
      "source": [
        "sample_list = [10, 20, 60, 30, 20, 40, 30, 60, 70, 80]\n",
        "Expected_Output = list()\n",
        "for i in sample_list:\n",
        "  if sample_list.count(i) > 1:\n",
        "    Expected_Output.append(i)\n",
        "print(set(Expected_Output))  "
      ],
      "metadata": {
        "colab": {
          "base_uri": "https://localhost:8080/"
        },
        "id": "xjw3hkf-4tCP",
        "outputId": "73918cd2-3015-4e87-f8de-87004e113ef9"
      },
      "execution_count": null,
      "outputs": [
        {
          "output_type": "stream",
          "name": "stdout",
          "text": [
            "{20, 60, 30}\n"
          ]
        }
      ]
    },
    {
      "cell_type": "markdown",
      "source": [
        "38. Create an outer function that will accept two strings, x and y. (x= 'Emma' and y = 'Kelly'.\n",
        "Create an inner function inside an outer function that will concatenate x and y.\n",
        "At last, an outer function will join the word 'developer' to it."
      ],
      "metadata": {
        "id": "N0suXs8Y60D_"
      }
    },
    {
      "cell_type": "code",
      "source": [
        "def outer (x:str,y:str):\n",
        "  def inner():\n",
        "    return x+y\n",
        "  return inner()+\"developer\""
      ],
      "metadata": {
        "id": "2sN64vlY61Vb"
      },
      "execution_count": null,
      "outputs": []
    },
    {
      "cell_type": "code",
      "source": [
        "outer(\"Emma\",\"Kelly\")"
      ],
      "metadata": {
        "colab": {
          "base_uri": "https://localhost:8080/",
          "height": 35
        },
        "id": "F4dwPAmX-H0U",
        "outputId": "fd4c5570-0f43-47ad-bcbc-99979c24b7ca"
      },
      "execution_count": null,
      "outputs": [
        {
          "output_type": "execute_result",
          "data": {
            "text/plain": [
              "'EmmaKellydeveloper'"
            ],
            "application/vnd.google.colaboratory.intrinsic+json": {
              "type": "string"
            }
          },
          "metadata": {},
          "execution_count": 60
        }
      ]
    },
    {
      "cell_type": "markdown",
      "source": [
        "39. Modify the element of a nested list inside the following list\n",
        "Change the element 35 to 3500\n",
        "*  list1 = [5, [10, 15, [20, 25, [30, 35], 40], 45], 50]"
      ],
      "metadata": {
        "id": "YXTqXmgR-Rin"
      }
    },
    {
      "cell_type": "code",
      "source": [
        "list1 = [5, [10, 15, [20, 25, [30, 35], 40], 45], 50]\n",
        "list1[1][2][2][1] = 3500\n",
        "print(list1)"
      ],
      "metadata": {
        "colab": {
          "base_uri": "https://localhost:8080/"
        },
        "id": "kFRNJiwR_-Ht",
        "outputId": "621b2741-cf9f-4fbe-fe8d-ba995bea990d"
      },
      "execution_count": null,
      "outputs": [
        {
          "output_type": "stream",
          "name": "stdout",
          "text": [
            "[5, [10, 15, [20, 25, [30, 3500], 40], 45], 50]\n"
          ]
        }
      ]
    },
    {
      "cell_type": "markdown",
      "source": [
        "40.  Access the nested key increment from the following dictionary\n",
        "Access 12"
      ],
      "metadata": {
        "id": "6KBHbNJL01IP"
      }
    },
    {
      "cell_type": "code",
      "source": [
        "\"\"\"\n",
        "emp_dict = {\n",
        "    \"company\": {\n",
        "        \"employee\": {\n",
        "            \"name\": \"Jess\",\n",
        "            \"payable\": {\n",
        "                \"salary\": 9000,\n",
        "                \"increment\": 12\n",
        "            }\n",
        "        }\n",
        "    }\n",
        "}\n",
        "\"\"\""
      ],
      "metadata": {
        "id": "PfYLTSqXCgEU"
      },
      "execution_count": null,
      "outputs": []
    },
    {
      "cell_type": "code",
      "source": [
        "emp_dict = {\n",
        "    \"company\": {\n",
        "        \"employee\": {\n",
        "            \"name\": \"Jess\",\n",
        "            \"payable\": {\n",
        "                \"salary\": 9000,\n",
        "                \"increment\": 12\n",
        "            }\n",
        "        }\n",
        "    }\n",
        "}\n",
        "\n",
        "emp_dict[\"company\"][\"employee\"][\"payable\"][\"increment\"]"
      ],
      "metadata": {
        "colab": {
          "base_uri": "https://localhost:8080/"
        },
        "id": "If-sH7-ZCk_w",
        "outputId": "0d1845f2-3c1a-4d3f-f77b-596ed40d34cf"
      },
      "execution_count": null,
      "outputs": [
        {
          "output_type": "execute_result",
          "data": {
            "text/plain": [
              "12"
            ]
          },
          "metadata": {},
          "execution_count": 77
        }
      ]
    },
    {
      "cell_type": "markdown",
      "source": [
        "41. Print the sum of the current number and the previous number\n",
        "Write a program to iterate the first 10 numbers and in each iteration, print the sum of the current and previous number.\n",
        "Printing current and previous number sum in a range(10)\n",
        "Current Number 0 Previous Number  0  Sum:  0\n",
        "Current Number 1 Previous Number  0  Sum:  1\n",
        "Current Number 2 Previous Number  1  Sum:  3\n",
        "Current Number 3 Previous Number  2  Sum:  5\n",
        "Current Number 4 Previous Number  3  Sum:  7\n",
        "Current Number 5 Previous Number  4  Sum:  9\n",
        "Current Number 6 Previous Number  5  Sum:  11\n",
        "Current Number 7 Previous Number  6  Sum:  13\n",
        "Current Number 8 Previous Number  7  Sum:  15\n",
        "Current Number 9 Previous Number  8  Sum:  17"
      ],
      "metadata": {
        "id": "4nQRh2OjFJfl"
      }
    },
    {
      "cell_type": "code",
      "source": [
        "p = 0\n",
        "sum = 0\n",
        "#print(f'Current Number {0} Previous Number {0} Sum {0}')\n",
        "for i in range(1,10):\n",
        "  sum = p+i\n",
        "  print(f'Current Number: {i} Previous Number: {p} Sum: {sum}')\n",
        "  p=i"
      ],
      "metadata": {
        "colab": {
          "base_uri": "https://localhost:8080/"
        },
        "id": "UDzMrCt1l0si",
        "outputId": "aac4f0c6-672b-41f4-83d8-e4a05882dac8"
      },
      "execution_count": 12,
      "outputs": [
        {
          "output_type": "stream",
          "name": "stdout",
          "text": [
            "Current Number: 1 Previous Number: 0 Sum: 1\n",
            "Current Number: 2 Previous Number: 1 Sum: 3\n",
            "Current Number: 3 Previous Number: 2 Sum: 5\n",
            "Current Number: 4 Previous Number: 3 Sum: 7\n",
            "Current Number: 5 Previous Number: 4 Sum: 9\n",
            "Current Number: 6 Previous Number: 5 Sum: 11\n",
            "Current Number: 7 Previous Number: 6 Sum: 13\n",
            "Current Number: 8 Previous Number: 7 Sum: 15\n",
            "Current Number: 9 Previous Number: 8 Sum: 17\n"
          ]
        }
      ]
    },
    {
      "cell_type": "markdown",
      "source": [
        "43. Print multiplication table form 1 to 10\n",
        "*  1  2 3 4 5 6 7 8 9 10 \t\t\n",
        "*  2  4 6 8 10 12 14 16 18 20 \t\t\n",
        "*  3  6 9 12 15 18 21 24 27 30 \t\t\n",
        "*  4  8 12 16 20 24 28 32 36 40 \t\t\n",
        "*  5  10 15 20 25 30 35 40 45 50 \t\t\n",
        "*  6  12 18 24 30 36 42 48 54 60 \t\t\n",
        "*  7  14 21 28 35 42 49 56 63 70 \t\t\n",
        "*  8  16 24 32 40 48 56 64 72 80 \t\t\n",
        "*  9  18 27 36 45 54 63 72 81 90 \t\t\n",
        "*  10 20 30 40 50 60 70 80 90 100 "
      ],
      "metadata": {
        "id": "-pdw2PxhoDoH"
      }
    },
    {
      "cell_type": "markdown",
      "source": [
        "42. Print characters from a string that are present at an even index number\n",
        "Write a program to accept a string from the user and display characters that are present at an even index number.\n",
        "\n",
        "*  For example, str = \"ineuron\" so you should display ‘i’, ‘e’, ‘r’, ‘n’."
      ],
      "metadata": {
        "id": "84__4RSTsI0f"
      }
    },
    {
      "cell_type": "code",
      "source": [
        "def test10(s:str):\n",
        "  for i in range(len(s)):\n",
        "    if i%2==0:\n",
        "      print(s[i],end=\" \")\n",
        "  \n",
        "test10(\"iNeuron\")"
      ],
      "metadata": {
        "colab": {
          "base_uri": "https://localhost:8080/"
        },
        "id": "crpa8bdJsJ7Z",
        "outputId": "3f22035b-480d-4705-e412-308b2c1ac2a7"
      },
      "execution_count": 19,
      "outputs": [
        {
          "output_type": "stream",
          "name": "stdout",
          "text": [
            "i e r n "
          ]
        }
      ]
    },
    {
      "cell_type": "code",
      "source": [
        "for i in range(1,11):\n",
        "  for j in range(1,11):\n",
        "    print(i*j,end=\" \")\n",
        "  print(\"\\n\")"
      ],
      "metadata": {
        "colab": {
          "base_uri": "https://localhost:8080/"
        },
        "id": "YhBLUTUyoA4s",
        "outputId": "287a3159-ab3c-458b-eb86-b9a5974e8168"
      },
      "execution_count": 13,
      "outputs": [
        {
          "output_type": "stream",
          "name": "stdout",
          "text": [
            "1 2 3 4 5 6 7 8 9 10 \n",
            "\n",
            "2 4 6 8 10 12 14 16 18 20 \n",
            "\n",
            "3 6 9 12 15 18 21 24 27 30 \n",
            "\n",
            "4 8 12 16 20 24 28 32 36 40 \n",
            "\n",
            "5 10 15 20 25 30 35 40 45 50 \n",
            "\n",
            "6 12 18 24 30 36 42 48 54 60 \n",
            "\n",
            "7 14 21 28 35 42 49 56 63 70 \n",
            "\n",
            "8 16 24 32 40 48 56 64 72 80 \n",
            "\n",
            "9 18 27 36 45 54 63 72 81 90 \n",
            "\n",
            "10 20 30 40 50 60 70 80 90 100 \n",
            "\n"
          ]
        }
      ]
    },
    {
      "cell_type": "markdown",
      "source": [
        "44. Remove duplicates from a list and create a tuple and find the minimum and maximum number\n",
        "*  sample_list = [87, 45, 41, 65, 94, 41, 99, 94]\n",
        "* Expected Outcome: \n",
        "\n",
        "\n",
        "> unique items [87, 45, 41, 65, 99]\n",
        "\n",
        "> tuple (87, 45, 41, 65, 99)\n",
        "\n",
        "> min: 41\n",
        "\n",
        "> max: 99"
      ],
      "metadata": {
        "id": "b2Dzw7hgstMQ"
      }
    },
    {
      "cell_type": "code",
      "source": [
        "sample_list = [87, 45, 41, 65, 94, 41, 99, 94]\n",
        "mx = max(sample_list)\n",
        "mn = min(sample_list)\n",
        "s = set(sample_list)\n",
        "l = list(s)\n",
        "t = tuple(l)\n",
        "print(f'Unique items {l}')\n",
        "print(f'tuple {t}')\n",
        "print(f'min: {mn}')\n",
        "print(f'max: {mx}')\n"
      ],
      "metadata": {
        "colab": {
          "base_uri": "https://localhost:8080/"
        },
        "id": "ea0UBo2KtGOc",
        "outputId": "1c00b88a-671e-4245-c492-f90ded3c1d64"
      },
      "execution_count": 34,
      "outputs": [
        {
          "output_type": "stream",
          "name": "stdout",
          "text": [
            "Unique items [65, 99, 41, 45, 87, 94]\n",
            "tuple (65, 99, 41, 45, 87, 94)\n",
            "min: 41\n",
            "max: 99\n"
          ]
        }
      ]
    },
    {
      "cell_type": "markdown",
      "source": [
        "45. Write a Python program to create a lambda function that adds 15 to a given number passed in as an argument,\n",
        "also create a lambda function\n",
        "that multiplies argument x with argument y and print the result."
      ],
      "metadata": {
        "id": "4oCGCTARwwza"
      }
    },
    {
      "cell_type": "code",
      "source": [
        "a = lambda a : a+15\n",
        "b = lambda x,y : x*y\n",
        "\n",
        "print(a(5))\n",
        "print(b(2,3))"
      ],
      "metadata": {
        "colab": {
          "base_uri": "https://localhost:8080/"
        },
        "id": "HaWc6cc_wyY-",
        "outputId": "9bde808a-ef01-4c70-9d47-d9937d699975"
      },
      "execution_count": 36,
      "outputs": [
        {
          "output_type": "stream",
          "name": "stdout",
          "text": [
            "20\n",
            "6\n"
          ]
        }
      ]
    },
    {
      "cell_type": "markdown",
      "source": [
        "46. Write a Python program to sort a list of tuples using Lambda."
      ],
      "metadata": {
        "id": "9AvvRtMxxSBv"
      }
    },
    {
      "cell_type": "code",
      "source": [
        "s = lambda x : sorted(x)\n",
        "l = [(1,'e'),(3,'e','f'),(5,'f','q','v')]\n",
        "print(s(l))"
      ],
      "metadata": {
        "colab": {
          "base_uri": "https://localhost:8080/"
        },
        "id": "bnXT8TF5xYf_",
        "outputId": "49810b00-7fa0-458a-c204-28746ada9019"
      },
      "execution_count": 39,
      "outputs": [
        {
          "output_type": "stream",
          "name": "stdout",
          "text": [
            "[(1, 'e'), (3, 'e', 'f'), (5, 'f', 'q', 'v')]\n"
          ]
        }
      ]
    },
    {
      "cell_type": "markdown",
      "source": [
        "47. Write a Python program to extract year, month, date and time using Lambda."
      ],
      "metadata": {
        "id": "3fUTvPl6yfXf"
      }
    },
    {
      "cell_type": "code",
      "source": [
        "import datetime\n",
        "n = datetime.datetime.now()\n",
        "year = lambda x : x.year\n",
        "month = lambda x : x.month\n",
        "day = lambda x : x.day\n",
        "t = lambda x : x.time()\n",
        "\n",
        "print(year(n))\n",
        "print(month(n))\n",
        "print(day(n))\n",
        "print(t(n))"
      ],
      "metadata": {
        "colab": {
          "base_uri": "https://localhost:8080/"
        },
        "id": "E7vga_ZcygVQ",
        "outputId": "2bf9a868-46db-424e-efb4-d2cbba545b98"
      },
      "execution_count": 52,
      "outputs": [
        {
          "output_type": "stream",
          "name": "stdout",
          "text": [
            "2023\n",
            "1\n",
            "18\n",
            "16:59:44.330031\n"
          ]
        }
      ]
    },
    {
      "cell_type": "markdown",
      "source": [
        "48. Write a Python program to count the even, odd numbers in a given array of integers using Lambda."
      ],
      "metadata": {
        "id": "rU2I0RIgzX5S"
      }
    },
    {
      "cell_type": "code",
      "source": [
        "l = [1,2,3,4,5,6,7,8,9]\n",
        "even = list(filter(lambda x : x%2==0, l))\n",
        "odd = list(filter(lambda y : y%2 != 0, l ))\n",
        "print(f'even: {len(even)}')\n",
        "print(f'odd: {len(odd)}')"
      ],
      "metadata": {
        "colab": {
          "base_uri": "https://localhost:8080/"
        },
        "id": "BGhaLbi91Cg3",
        "outputId": "d469a024-cfe7-45c0-8d27-a6343db35767"
      },
      "execution_count": 55,
      "outputs": [
        {
          "output_type": "stream",
          "name": "stdout",
          "text": [
            "even: 4\n",
            "odd: 5\n"
          ]
        }
      ]
    },
    {
      "cell_type": "markdown",
      "source": [
        "49. Write a Python program to convert all the characters in uppercase and lowercase and eliminate duplicate letters from a given sequence.\n",
        "Use map() function."
      ],
      "metadata": {
        "id": "IiHQBzZr2t2U"
      }
    },
    {
      "cell_type": "code",
      "source": [
        "s = \"Hello World\"\n",
        "upper = list(set(map(lambda s: s.upper(), s)))\n",
        "lower = list(set(map(lambda s: s.lower(), s)))\n",
        "print(f'UPPERCASE: {upper}')\n",
        "print(f'lowercase: {lower}')"
      ],
      "metadata": {
        "colab": {
          "base_uri": "https://localhost:8080/"
        },
        "id": "0Ef02FMz2u_h",
        "outputId": "d0680cc5-262a-4ba3-caf7-a0fb1acba059"
      },
      "execution_count": 58,
      "outputs": [
        {
          "output_type": "stream",
          "name": "stdout",
          "text": [
            "UPPERCASE: [' ', 'D', 'W', 'R', 'H', 'E', 'O', 'L']\n",
            "lowercase: [' ', 'd', 'r', 'o', 'e', 'l', 'w', 'h']\n"
          ]
        }
      ]
    },
    {
      "cell_type": "markdown",
      "source": [
        "50.  Write a Python program to square the elements of a list using map() function."
      ],
      "metadata": {
        "id": "IJcp4-jA4OuQ"
      }
    },
    {
      "cell_type": "code",
      "source": [
        "l = (1,2,3,4,5)\n",
        "x = map(lambda x : x*x, l)\n",
        "print(list(x))"
      ],
      "metadata": {
        "colab": {
          "base_uri": "https://localhost:8080/"
        },
        "id": "NPVOXJ924SAm",
        "outputId": "d9df941e-eb74-40a7-ef86-7210f155e100"
      },
      "execution_count": 61,
      "outputs": [
        {
          "output_type": "stream",
          "name": "stdout",
          "text": [
            "[1, 4, 9, 16, 25]\n"
          ]
        }
      ]
    }
  ]
}