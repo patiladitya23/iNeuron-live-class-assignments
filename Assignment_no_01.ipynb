{
  "nbformat": 4,
  "nbformat_minor": 0,
  "metadata": {
    "colab": {
      "provenance": [],
      "collapsed_sections": []
    },
    "kernelspec": {
      "name": "python3",
      "display_name": "Python 3"
    },
    "language_info": {
      "name": "python"
    }
  },
  "cells": [
    {
      "cell_type": "markdown",
      "source": [
        "#1.Find out all the types of error that we have encountered in our lecture and why? Also include the examples.\n",
        "\n"
      ],
      "metadata": {
        "id": "uIlLIknbB91a"
      }
    },
    {
      "cell_type": "code",
      "source": [
        "#name error\n",
        "#caused because of not using reserved keywords as defined, in the examplle given below \"PRINT\" keyword is supposed to be used as print(\"xyz\") but we have used as Print(\"xyz\") that's why it is showing error.\n",
        "\n",
        "Print(\"Aditya\")"
      ],
      "metadata": {
        "colab": {
          "base_uri": "https://localhost:8080/",
          "height": 200
        },
        "id": "u5AliuArC6s7",
        "outputId": "d9601c94-cb44-468c-d28f-bdf6d0b7ad35"
      },
      "execution_count": null,
      "outputs": [
        {
          "output_type": "error",
          "ename": "NameError",
          "evalue": "ignored",
          "traceback": [
            "\u001b[0;31m---------------------------------------------------------------------------\u001b[0m",
            "\u001b[0;31mNameError\u001b[0m                                 Traceback (most recent call last)",
            "\u001b[0;32m<ipython-input-1-bbb3f6a44b66>\u001b[0m in \u001b[0;36m<module>\u001b[0;34m\u001b[0m\n\u001b[1;32m      1\u001b[0m \u001b[0;31m#name error\u001b[0m\u001b[0;34m\u001b[0m\u001b[0;34m\u001b[0m\u001b[0;34m\u001b[0m\u001b[0m\n\u001b[1;32m      2\u001b[0m \u001b[0;34m\u001b[0m\u001b[0m\n\u001b[0;32m----> 3\u001b[0;31m \u001b[0mPrint\u001b[0m\u001b[0;34m(\u001b[0m\u001b[0;34m\"Aditya\"\u001b[0m\u001b[0;34m)\u001b[0m\u001b[0;34m\u001b[0m\u001b[0;34m\u001b[0m\u001b[0m\n\u001b[0m",
            "\u001b[0;31mNameError\u001b[0m: name 'Print' is not defined"
          ]
        }
      ]
    },
    {
      "cell_type": "code",
      "source": [
        "#syntax error\n",
        "#caused when used improper syntax for the code, it the example given below proper syntax for the print is print(\"xyz\") but we have used it incorrectly that's why it is showing syntac error.\n",
        "\n",
        "print \"aditya\""
      ],
      "metadata": {
        "colab": {
          "base_uri": "https://localhost:8080/",
          "height": 130
        },
        "id": "5XrVrc_FDrq6",
        "outputId": "e1a34382-a8a3-41a1-e9f7-5450a7fa158a"
      },
      "execution_count": null,
      "outputs": [
        {
          "output_type": "error",
          "ename": "SyntaxError",
          "evalue": "ignored",
          "traceback": [
            "\u001b[0;36m  File \u001b[0;32m\"<ipython-input-2-dcfa79818724>\"\u001b[0;36m, line \u001b[0;32m4\u001b[0m\n\u001b[0;31m    print \"aditya\"\u001b[0m\n\u001b[0m                 ^\u001b[0m\n\u001b[0;31mSyntaxError\u001b[0m\u001b[0;31m:\u001b[0m Missing parentheses in call to 'print'. Did you mean print(\"aditya\")?\n"
          ]
        }
      ]
    },
    {
      "cell_type": "code",
      "source": [
        "#type error\n",
        "#caused when we used diff data types for particular operations, for example\n",
        "\n",
        "\n",
        "\"aditya\" + 2\n",
        "#in the above example type error says that we can canctenate only string to string."
      ],
      "metadata": {
        "colab": {
          "base_uri": "https://localhost:8080/",
          "height": 200
        },
        "id": "eSMy53k1EHLJ",
        "outputId": "90f7fb70-b8b2-4b2e-c124-689ac4a70b21"
      },
      "execution_count": null,
      "outputs": [
        {
          "output_type": "error",
          "ename": "TypeError",
          "evalue": "ignored",
          "traceback": [
            "\u001b[0;31m---------------------------------------------------------------------------\u001b[0m",
            "\u001b[0;31mTypeError\u001b[0m                                 Traceback (most recent call last)",
            "\u001b[0;32m<ipython-input-3-29efaed21b51>\u001b[0m in \u001b[0;36m<module>\u001b[0;34m\u001b[0m\n\u001b[1;32m      2\u001b[0m \u001b[0;31m#caused when we used diff data types for particular operations, for example\u001b[0m\u001b[0;34m\u001b[0m\u001b[0;34m\u001b[0m\u001b[0;34m\u001b[0m\u001b[0m\n\u001b[1;32m      3\u001b[0m \u001b[0;34m\u001b[0m\u001b[0m\n\u001b[0;32m----> 4\u001b[0;31m \u001b[0;34m\"aditya\"\u001b[0m \u001b[0;34m+\u001b[0m \u001b[0;36m2\u001b[0m\u001b[0;34m\u001b[0m\u001b[0;34m\u001b[0m\u001b[0m\n\u001b[0m",
            "\u001b[0;31mTypeError\u001b[0m: can only concatenate str (not \"int\") to str"
          ]
        }
      ]
    },
    {
      "cell_type": "code",
      "source": [
        "#value error\n",
        "#caused when used incorrect value for the specific variable type, for example\n",
        "\n",
        "a = int(input(\"value of a: \"))\n",
        "b = int(input(\"value of b: \"))\n",
        "print(f\"sum of a: {a} and b: {b} is: {a+b}\")"
      ],
      "metadata": {
        "colab": {
          "base_uri": "https://localhost:8080/",
          "height": 252
        },
        "id": "qD0heiC2FBW-",
        "outputId": "75e0b0ac-3219-4b12-e452-4e6b2728255c"
      },
      "execution_count": null,
      "outputs": [
        {
          "name": "stdout",
          "output_type": "stream",
          "text": [
            "value of a: 10.2\n"
          ]
        },
        {
          "output_type": "error",
          "ename": "ValueError",
          "evalue": "ignored",
          "traceback": [
            "\u001b[0;31m---------------------------------------------------------------------------\u001b[0m",
            "\u001b[0;31mValueError\u001b[0m                                Traceback (most recent call last)",
            "\u001b[0;32m<ipython-input-15-8e877d0889a7>\u001b[0m in \u001b[0;36m<module>\u001b[0;34m\u001b[0m\n\u001b[1;32m      2\u001b[0m \u001b[0;31m#caused when used incorrect value for the specific variable type, for example\u001b[0m\u001b[0;34m\u001b[0m\u001b[0;34m\u001b[0m\u001b[0;34m\u001b[0m\u001b[0m\n\u001b[1;32m      3\u001b[0m \u001b[0;34m\u001b[0m\u001b[0m\n\u001b[0;32m----> 4\u001b[0;31m \u001b[0ma\u001b[0m \u001b[0;34m=\u001b[0m \u001b[0mint\u001b[0m\u001b[0;34m(\u001b[0m\u001b[0minput\u001b[0m\u001b[0;34m(\u001b[0m\u001b[0;34m\"value of a: \"\u001b[0m\u001b[0;34m)\u001b[0m\u001b[0;34m)\u001b[0m\u001b[0;34m\u001b[0m\u001b[0;34m\u001b[0m\u001b[0m\n\u001b[0m\u001b[1;32m      5\u001b[0m \u001b[0mb\u001b[0m \u001b[0;34m=\u001b[0m \u001b[0mint\u001b[0m\u001b[0;34m(\u001b[0m\u001b[0minput\u001b[0m\u001b[0;34m(\u001b[0m\u001b[0;34m\"value of b: \"\u001b[0m\u001b[0;34m)\u001b[0m\u001b[0;34m)\u001b[0m\u001b[0;34m\u001b[0m\u001b[0;34m\u001b[0m\u001b[0m\n\u001b[1;32m      6\u001b[0m \u001b[0mprint\u001b[0m\u001b[0;34m(\u001b[0m\u001b[0;34mf\"sum of a: {a} and b: {b} is: {a+b}\"\u001b[0m\u001b[0;34m)\u001b[0m\u001b[0;34m\u001b[0m\u001b[0;34m\u001b[0m\u001b[0m\n",
            "\u001b[0;31mValueError\u001b[0m: invalid literal for int() with base 10: '10.2'"
          ]
        }
      ]
    },
    {
      "cell_type": "code",
      "source": [
        "#intendation error\n",
        "#caused if spaces in the code are not placed properly, in the code give below all the spaces before print statements are missing and also else key has lot may spces before it therefore we have got intendation error in the code.\n",
        "\n",
        "A = float(input(f\"Enter your first value: \"))\n",
        "B = float(input(f\"Enter your second value: \"))\n",
        "operation = input(\"\"\"Enter your operation among \"+\",\"*\",\"/\",\"-\",\"%\" \"\"\")\n",
        "if operation == \"+\" :\n",
        "print(f\"Sum of A: {A} and B: {B} is {A+B}\")\n",
        "elif operation == \"-\":\n",
        "print(f\"Substraction of A: {A} and B: {B} is {A-B}\")\n",
        "elif operation == \"*\":\n",
        "print(f\"Multiplication of A: {A} and B: {B} is {A*B}\")\n",
        "elif operation == \"/\":\n",
        "print(f\"Division of A: {A} and B: {B} is {A/B}\")\n",
        "elif operation == \"%\":\n",
        "  print(f\"Modulus of A: {A} and B: {B} is {A%B}\")\n",
        "    else:\n",
        "print(f\"Invalid operation input\")"
      ],
      "metadata": {
        "colab": {
          "base_uri": "https://localhost:8080/",
          "height": 130
        },
        "id": "mZKwY_U5je8Z",
        "outputId": "737efc72-e333-4db4-e955-50c11b7d3646"
      },
      "execution_count": null,
      "outputs": [
        {
          "output_type": "error",
          "ename": "IndentationError",
          "evalue": "ignored",
          "traceback": [
            "\u001b[0;36m  File \u001b[0;32m\"<ipython-input-39-2f3022c3981b>\"\u001b[0;36m, line \u001b[0;32m8\u001b[0m\n\u001b[0;31m    print(f\"Sum of A: {A} and B: {B} is {A+B}\")\u001b[0m\n\u001b[0m        ^\u001b[0m\n\u001b[0;31mIndentationError\u001b[0m\u001b[0;31m:\u001b[0m expected an indented block\n"
          ]
        }
      ]
    },
    {
      "cell_type": "markdown",
      "source": [
        "#2.Take input A and B and print their sum, mul, div, square of the nos."
      ],
      "metadata": {
        "id": "hSNxCkpvImdC"
      }
    },
    {
      "cell_type": "code",
      "source": [
        "A = float(input(f\"Enter your first value: \"))\n",
        "B = float(input(f\"Enter your second value: \"))\n",
        "operation = input(\"\"\"Enter your operation among \"+\",\"*\",\"/\",\"-\",\"%\" \"\"\")\n",
        "if operation == \"+\" :\n",
        "  print(f\"Sum of A: {A} and B: {B} is {A+B}\")\n",
        "elif operation == \"-\":\n",
        "  print(f\"Substraction of A: {A} and B: {B} is {A-B}\")\n",
        "elif operation == \"*\":\n",
        "  print(f\"Multiplication of A: {A} and B: {B} is {A*B}\")\n",
        "elif operation == \"/\":\n",
        "  print(f\"Division of A: {A} and B: {B} is {A/B}\")\n",
        "elif operation == \"%\":\n",
        "  print(f\"Modulus of A: {A} and B: {B} is {A%B}\")\n",
        "else:\n",
        "  print(f\"Invalid operation input\")"
      ],
      "metadata": {
        "colab": {
          "base_uri": "https://localhost:8080/"
        },
        "id": "sh001gh9Iptm",
        "outputId": "50573e65-d672-4c98-fe77-f5b042657f05"
      },
      "execution_count": null,
      "outputs": [
        {
          "output_type": "stream",
          "name": "stdout",
          "text": [
            "Enter your first value: 10\n",
            "Enter your second value: 10\n",
            "Enter your operation among \"+\",\"*\",\"/\",\"-\",\"%\" +\n",
            "Sum of A: 10.0 and B: 10.0 is 20.0\n"
          ]
        }
      ]
    },
    {
      "cell_type": "markdown",
      "source": [
        "#3.How many reserve keywords are there in python and why we should not use them as a variable name."
      ],
      "metadata": {
        "id": "hTJoEN1ZLnZP"
      }
    },
    {
      "cell_type": "code",
      "source": [
        "#Reserve keywords = words to which python has already assigned some functionality is called as \"reserved keywords\". ex: print,if,for,etc\n",
        "# there are 33 total keywords in python programming language.\n",
        "\"\"\"\n",
        "if\n",
        "not\n",
        "elif\n",
        "else\n",
        "for\n",
        "while\n",
        "and\n",
        "or\n",
        "print\n",
        "break\n",
        "continue\n",
        "as \n",
        "lamda\n",
        "def\n",
        "pass\n",
        "return\n",
        "true\n",
        "false\n",
        "class\n",
        "assert\n",
        "del\n",
        "except\n",
        "finally\n",
        "from\n",
        "import\n",
        "is\n",
        "in\n",
        "nonlocal\n",
        "global\n",
        "none\n",
        "raise\n",
        "yeild\n",
        "with\n",
        "try\n",
        "\"\"\" \n"
      ],
      "metadata": {
        "id": "gjr_a1E0Lr8v"
      },
      "execution_count": null,
      "outputs": []
    },
    {
      "cell_type": "markdown",
      "source": [
        "#4.Create email ids with the user inputs. in the following format - lastname.firstname@gmail.com"
      ],
      "metadata": {
        "id": "3iphBpk8Nz6K"
      }
    },
    {
      "cell_type": "code",
      "source": [
        "first_name = (input(f\"Enter Your First Name: \")).lower()\n",
        "last_name = (input(f\"Enter Your Last Name: \")).lower()\n",
        "\n",
        "print(f\"Your Email id is {last_name}.{first_name}@gmail.com\")"
      ],
      "metadata": {
        "colab": {
          "base_uri": "https://localhost:8080/"
        },
        "id": "9C_e1Z52N2VB",
        "outputId": "591d74d6-c60e-4f8b-dee1-9d4895b62213"
      },
      "execution_count": null,
      "outputs": [
        {
          "output_type": "stream",
          "name": "stdout",
          "text": [
            "Enter Your First Name: ADITYA\n",
            "Enter Your Last Name: Patil\n",
            "Your Email id is patil.aditya@gmail.com\n"
          ]
        }
      ]
    },
    {
      "cell_type": "markdown",
      "source": [
        "#5.Try to print the following lines -\n",
        "###Hi I'm Sunny\n",
        "###My address is 22\\3\n",
        "###I earn 20$ daily."
      ],
      "metadata": {
        "id": "YXtOwjBoP0_a"
      }
    },
    {
      "cell_type": "code",
      "source": [
        "print(f\"\"\"\n",
        "Hi I'm Sunny\n",
        "My address is 22/3\n",
        "I earn 20$ daily.\n",
        "\"\"\")"
      ],
      "metadata": {
        "colab": {
          "base_uri": "https://localhost:8080/"
        },
        "id": "KZF_Q5gpP3GN",
        "outputId": "bf7b1141-d26f-4016-ee0f-16d4c642c506"
      },
      "execution_count": null,
      "outputs": [
        {
          "output_type": "stream",
          "name": "stdout",
          "text": [
            "\n",
            "Hi I'm Sunny\n",
            "My address is 22/3\n",
            "I earn 20$ daily.\n",
            "\n"
          ]
        }
      ]
    },
    {
      "cell_type": "markdown",
      "source": [
        "#6.Take user input (name, address, date of birth etc) to fill a form for your college and print their email IDs."
      ],
      "metadata": {
        "id": "Nmhe3j38QQ83"
      }
    },
    {
      "cell_type": "code",
      "source": [
        "first_name = (input(\"Enter your first name: \")).lower()\n",
        "second_name = (input(\"Enter your middle name: \")).lower()\n",
        "last_name = (input(\"Enter your last name: \")).lower()\n",
        "dob = input(\"Enter Your Date Of Birth (dd/mm/yyyy): \")\n",
        "add = input(\"Enter your address: \").title()\n",
        "mob_no = input(\"Enter your 10 Digit mobile no: \")\n",
        "Name = (first_name + \" \"+ second_name +\" \"+ last_name).title()\n",
        "\n",
        "print(f\"Full Name: {Name}\")\n",
        "print(f\"Date Of Birth: {dob}\")\n",
        "(print(f\"Address: {add}\"))\n",
        "if len(mob_no)==10 and mob_no!=0000000000:\n",
        "  print(f\"Moblie no: +91{mob_no}\")\n",
        "else:\n",
        "  print(\"Mobile no: invalid\")\n",
        "print(f\"Email Id: {first_name}.{last_name}@ineuron.ai\")"
      ],
      "metadata": {
        "colab": {
          "base_uri": "https://localhost:8080/"
        },
        "id": "TBcZtGfFQe_Z",
        "outputId": "545c5c7d-3c76-491c-b858-6e7c9ab06365"
      },
      "execution_count": null,
      "outputs": [
        {
          "output_type": "stream",
          "name": "stdout",
          "text": [
            "Enter your first name: aditya\n",
            "Enter your middle name: mohan\n",
            "Enter your last name: patil\n",
            "Enter Your Date Of Birth (dd/mm/yyyy): 02/03/1997\n",
            "Enter your address: jalgaon\n",
            "Enter your 10 Digit mobile no: 899945872\n",
            "Full Name: Aditya Mohan Patil\n",
            "Date Of Birth: 02/03/1997\n",
            "Address: Jalgaon\n",
            "Mobile no: invalid\n",
            "Email Id: aditya.patil@ineuron.ai\n"
          ]
        }
      ]
    },
    {
      "cell_type": "markdown",
      "source": [
        "#7.Convert the following -\n",
        "###\"22.4\" into integer\n",
        "###\"22\" into complex no."
      ],
      "metadata": {
        "id": "ZAxn6e4_YRCs"
      }
    },
    {
      "cell_type": "code",
      "source": [
        "#\"22.4\" into integer\n",
        "\n",
        "A = \"22.4\"\n",
        "print(f'Value of A before conversiona: {A}, data type of A before conversion: {type(A)}')\n",
        "A = float(A)\n",
        "A = int(A)\n",
        "print(f'Value of A after conversion :{A}, data type of A after conversiona: {type(A)}')\n",
        "\n",
        "#\"22\" into complex no.\n",
        "B = 22\n",
        "print(f'Value of B before conversiona: {B}, data type of B before conversion: {type(B)}')\n",
        "B = float(B)\n",
        "print(f'Value of B after conversion :{A}, data type of B after conversiona: {type(B)}')\n"
      ],
      "metadata": {
        "id": "LeHNzb0kYWRc",
        "colab": {
          "base_uri": "https://localhost:8080/"
        },
        "outputId": "6edf6f85-19a1-45bc-9e93-3ae4aab0d667"
      },
      "execution_count": 5,
      "outputs": [
        {
          "output_type": "stream",
          "name": "stdout",
          "text": [
            "Value of A before conversiona: 22.4, data type of A before conversion: <class 'str'>\n",
            "Value of A after conversion :22, data type of A after conversiona: <class 'int'>\n",
            "Value of B before conversiona: 22, data type of B before conversion: <class 'int'>\n",
            "Value of B after conversion :22, data type of B after conversiona: <class 'float'>\n"
          ]
        }
      ]
    }
  ]
}