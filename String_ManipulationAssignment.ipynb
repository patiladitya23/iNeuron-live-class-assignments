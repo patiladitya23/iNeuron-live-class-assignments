{
  "nbformat": 4,
  "nbformat_minor": 0,
  "metadata": {
    "colab": {
      "provenance": [],
      "collapsed_sections": []
    },
    "kernelspec": {
      "name": "python3",
      "display_name": "Python 3"
    },
    "language_info": {
      "name": "python"
    }
  },
  "cells": [
    {
      "cell_type": "markdown",
      "source": [
        "##1.Count the number of times iNeuron appears in the string."
      ],
      "metadata": {
        "id": "du-j7pS9tWwH"
      }
    },
    {
      "cell_type": "code",
      "execution_count": 1,
      "metadata": {
        "colab": {
          "base_uri": "https://localhost:8080/"
        },
        "id": "3EUtG9JLtRCL",
        "outputId": "9486a0ea-696b-43d5-cf3d-e1a0020579f2"
      },
      "outputs": [
        {
          "output_type": "execute_result",
          "data": {
            "text/plain": [
              "3"
            ]
          },
          "metadata": {},
          "execution_count": 1
        }
      ],
      "source": [
        "text = \"Welcome to iNeuron, You are a part of FSDS Bootcamp 2 in iNeuron. I hope you are enjoying the course by iNeuron\"\n",
        "\n",
        "text.count(\"iNeuron\")"
      ]
    },
    {
      "cell_type": "markdown",
      "source": [
        "##2.Check if position 5 to 11 ends with the phrase iNeuron. in the string"
      ],
      "metadata": {
        "id": "WZRjqHqlt863"
      }
    },
    {
      "cell_type": "code",
      "source": [
        "txt = \"Hello, welcome to FSDS 2.0 at iNeuron.\"\n",
        "\n",
        "if text[5:11]==\"iNeuron\":\n",
        "  print(\"Phrase iNeuron do match\")\n",
        "else:\n",
        "  print(\"Phrase does not match\")"
      ],
      "metadata": {
        "colab": {
          "base_uri": "https://localhost:8080/"
        },
        "id": "Ev_2JvjouIn3",
        "outputId": "6116e595-1512-4783-e0a0-41e31c21fe03"
      },
      "execution_count": 2,
      "outputs": [
        {
          "output_type": "stream",
          "name": "stdout",
          "text": [
            "Phrase does not match\n"
          ]
        }
      ]
    },
    {
      "cell_type": "markdown",
      "source": [
        "##3.Write a program that takes your full name as input and displays the abbreviations of the first and middle names except the last name which is displayed as it is. For example, if your name is Sunny Bhaveen Chandra, then the output should be S.B.Chandra.\n",
        "\n"
      ],
      "metadata": {
        "id": "2GIZXnjDu40V"
      }
    },
    {
      "cell_type": "code",
      "source": [
        "full_name = input(\"Enter your full name (first_name middle_name last_name)\").title()\n",
        "print(f\"your full name is: {full_name}\")\n",
        "first_name, middle_name, last_name = full_name.split(\" \")\n",
        "print(f\"Abbrivated output is: {first_name[0]}.{middle_name[0]}.{last_name}\")"
      ],
      "metadata": {
        "colab": {
          "base_uri": "https://localhost:8080/"
        },
        "id": "LkBNlIQ9u-Qo",
        "outputId": "3e00b227-23b8-499c-a6ce-f987565d3555"
      },
      "execution_count": 7,
      "outputs": [
        {
          "output_type": "stream",
          "name": "stdout",
          "text": [
            "Enter your full name (first_name middle_name last_name)aditya mohan patil\n",
            "your full name is: Aditya Mohan Patil\n",
            "Abbrivated output is: A.M.Patil\n"
          ]
        }
      ]
    },
    {
      "cell_type": "markdown",
      "source": [
        "##4.Join all items in a list into a string, using a hash(#) character as separator:"
      ],
      "metadata": {
        "id": "LtSnypD7xTd3"
      }
    },
    {
      "cell_type": "code",
      "source": [
        "LIST = [\"My\", \"name\", \"is\", \"Rishav\", \"Dash\"]\n",
        "\n",
        "\"#\".join(LIST)"
      ],
      "metadata": {
        "colab": {
          "base_uri": "https://localhost:8080/",
          "height": 35
        },
        "id": "TETK2v6CxS8D",
        "outputId": "9fa9266a-2244-4c94-ee9b-4adf77c37afe"
      },
      "execution_count": 8,
      "outputs": [
        {
          "output_type": "execute_result",
          "data": {
            "text/plain": [
              "'My#name#is#Rishav#Dash'"
            ],
            "application/vnd.google.colaboratory.intrinsic+json": {
              "type": "string"
            }
          },
          "metadata": {},
          "execution_count": 8
        }
      ]
    },
    {
      "cell_type": "markdown",
      "source": [
        "##5.Write example for the following string manipulation function."
      ],
      "metadata": {
        "id": "SQDXBVKoyCzn"
      }
    },
    {
      "cell_type": "code",
      "source": [
        "name = \"ADITYA\"\n",
        "print(name.isupper())"
      ],
      "metadata": {
        "colab": {
          "base_uri": "https://localhost:8080/"
        },
        "id": "E-_ztIE2yJ1U",
        "outputId": "8606f13b-c04e-4550-a4df-67adcf3bba94"
      },
      "execution_count": 26,
      "outputs": [
        {
          "output_type": "stream",
          "name": "stdout",
          "text": [
            "True\n"
          ]
        }
      ]
    },
    {
      "cell_type": "code",
      "source": [
        "name = \"aditya\"\n",
        "print(name.islower())"
      ],
      "metadata": {
        "colab": {
          "base_uri": "https://localhost:8080/"
        },
        "id": "fSqtSkIPyji6",
        "outputId": "b24ed1e7-72ec-48f7-fd08-0afbc0b79ebc"
      },
      "execution_count": 27,
      "outputs": [
        {
          "output_type": "stream",
          "name": "stdout",
          "text": [
            "True\n"
          ]
        }
      ]
    },
    {
      "cell_type": "code",
      "source": [
        "number = \"222444555\"\n",
        "print(number.isdecimal())\n",
        "number1 = \"aditya\"\n",
        "print(number1.isdecimal())\n",
        "number2 = \"aditya0203patil\"\n",
        "print(number2.isdecimal())"
      ],
      "metadata": {
        "colab": {
          "base_uri": "https://localhost:8080/"
        },
        "id": "63Mq82cRyn4F",
        "outputId": "6c03d795-3f42-40fb-8ec8-d82a671f5e6f"
      },
      "execution_count": 18,
      "outputs": [
        {
          "output_type": "stream",
          "name": "stdout",
          "text": [
            "True\n",
            "False\n",
            "False\n"
          ]
        }
      ]
    },
    {
      "cell_type": "code",
      "source": [
        "name = \"aditya\"\n",
        "print(name.isalpha())\n",
        "name = \"aditya23\"\n",
        "print(name.isalpha())"
      ],
      "metadata": {
        "colab": {
          "base_uri": "https://localhost:8080/"
        },
        "id": "_ODqgJs_zuYk",
        "outputId": "ae25eec8-53ed-455e-88a2-2cdd817d41d2"
      },
      "execution_count": 23,
      "outputs": [
        {
          "output_type": "stream",
          "name": "stdout",
          "text": [
            "True\n",
            "False\n"
          ]
        }
      ]
    },
    {
      "cell_type": "code",
      "source": [
        "mob_no = \"7678799098\"\n",
        "print(mob_no.isnumeric())"
      ],
      "metadata": {
        "colab": {
          "base_uri": "https://localhost:8080/"
        },
        "id": "nu7Bhl2e0PaW",
        "outputId": "30851bcc-be85-486e-bd89-cac2b1a9552c"
      },
      "execution_count": 25,
      "outputs": [
        {
          "output_type": "stream",
          "name": "stdout",
          "text": [
            "True\n"
          ]
        }
      ]
    },
    {
      "cell_type": "markdown",
      "source": [
        "##6.Indian PAN card format follows the following formats -\n",
        "\n",
        "1.   AYEPC7894X\n",
        "2.   ABCDE9999Y Take user input for PAN_CARD and validate as per the above example.\n"
      ],
      "metadata": {
        "id": "zdA3P1300mR6"
      }
    },
    {
      "cell_type": "code",
      "source": [
        "pan_no = input(\"Enter your pan card no: \")\n",
        "pan_no = pan_no.upper()\n",
        "print(f\"Your Pan Number is: {pan_no}\")\n",
        "if len(pan_no)==10 and pan_no[:4].isalpha() and pan_no[5:8].isnumeric and pan_no[9].isalpha():\n",
        "  print(f\"Your Pan Number: {pan_no} is valid.\")\n",
        "else:\n",
        "  print(f\"Your Pan Number: {pan_no} is not valid.\")"
      ],
      "metadata": {
        "colab": {
          "base_uri": "https://localhost:8080/"
        },
        "id": "WkWsx8q407AT",
        "outputId": "9ece913c-d627-4f09-ec14-7cb2e98f96c3"
      },
      "execution_count": 28,
      "outputs": [
        {
          "output_type": "stream",
          "name": "stdout",
          "text": [
            "Enter your pan card no: sxdmm4322g\n",
            "Your Pan Number is: SXDMM4322G\n",
            "Your Pan Number: SXDMM4322G is valid.\n"
          ]
        }
      ]
    }
  ]
}